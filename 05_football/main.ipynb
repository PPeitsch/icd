{
 "cells": [
  {
   "cell_type": "markdown",
   "id": "5dd0822c-27f6-485d-a7f2-8450ca8feba5",
   "metadata": {},
   "source": [
    "# **05 - Football Dataset**\n",
    "___\n",
    "\n",
    "#### **Autor/es:**\n",
    "- Peitsch, Pablo [[1]](#1)\n",
    "\n",
    "**Fecha:** 2022-09-06"
   ]
  },
  {
   "cell_type": "markdown",
   "id": "f01cbce2-f769-41c9-92f1-b9ae017cc466",
   "metadata": {},
   "source": [
    "## **DATASETS**\n",
    "___"
   ]
  },
  {
   "cell_type": "markdown",
   "id": "001a1216-bb6a-4c82-9504-15065c160f22",
   "metadata": {},
   "source": [
    "### **1. Data exploration**\n",
    "\n",
    "Luego de importar los paquetes necesarios, se exploran los datasets para su posterior análisis."
   ]
  },
  {
   "cell_type": "code",
   "execution_count": null,
   "id": "944413db-7e24-429d-9ce6-7f0d0996733e",
   "metadata": {},
   "outputs": [],
   "source": [
    "# Library imports\n",
    "library(tidyverse)\n",
    "# Datasets folder\n",
    "data_folder <- \"datasets\"\n",
    "# Files list of datasets folder\n",
    "list_files <- list.files(data_folder)\n",
    "# Number of datasets\n",
    "n <- length(list_files)\n",
    "# Se cambia tamaño del plot\n",
    "options(repr.plot.width=25, repr.plot.height=12)"
   ]
  },
  {
   "cell_type": "code",
   "execution_count": null,
   "id": "241d45ca-8355-4da4-9bb4-08b4a823067f",
   "metadata": {},
   "outputs": [],
   "source": [
    "# Name list of datasets\n",
    "d_names <- list()\n",
    "f_names <- list()\n",
    "for (i in 1:n){\n",
    "    f_names[i] <- list_files[i]\n",
    "    temp_name <- list_files[i]\n",
    "    temp_name <- tools::file_path_sans_ext(temp_name)\n",
    "    d_names[i] <- temp_name\n",
    "    temp_df <- read.csv(file.path(data_folder, f_names[i]), dec=\",\")\n",
    "    assign(d_names[[i]], temp_df)\n",
    "}"
   ]
  },
  {
   "cell_type": "code",
   "execution_count": null,
   "id": "4f0cdd5f-74e1-47bb-a2a6-6b185016e1d9",
   "metadata": {},
   "outputs": [],
   "source": [
    "# Structure of datasets, data variables and typesa cell in jupyter notebook, we get a nice table with the dataa cell in jupyter notebook, we get a nice table with the data\n",
    "for (i in 1:n){\n",
    "    print(d_names[[i]])\n",
    "    str(get(d_names[[i]]))\n",
    "    print(colnames(get(d_names[[i]])))\n",
    "    print(\"----------\")\n",
    "}"
   ]
  },
  {
   "cell_type": "markdown",
   "id": "21345354-7227-4bd8-8ef7-be13f9a71832",
   "metadata": {},
   "source": [
    "### **2. Foreign and principal keys**\n",
    "\n",
    "Se evalúan las claves principales y foráneas en cada dataset; luego, se muestran las imágenes generadas."
   ]
  },
  {
   "cell_type": "code",
   "execution_count": null,
   "id": "3f26ebf3-2ad8-4446-8092-b71c978bfcf2",
   "metadata": {},
   "outputs": [],
   "source": [
    "# Datasets folder\n",
    "keys_folder <- \"keys\"\n",
    "# Files list of datasets folder\n",
    "list_pdf <- list.files(keys_folder)\n",
    "list_pdf"
   ]
  },
  {
   "cell_type": "markdown",
   "id": "6936c584-9bf9-4c79-afe9-a82ba45a2958",
   "metadata": {},
   "source": [
    "<img src=\"keys/appearances.jpg\" alt=\"appearances\"  width=\"900\" height=\"600\">\n",
    "<img src=\"keys/players.jpg\" alt=\"players\"  width=\"900\" height=\"600\">\n",
    "<img src=\"keys/teams.jpg\" alt=\"teams\"  width=\"900\" height=\"600\">"
   ]
  },
  {
   "cell_type": "markdown",
   "id": "57a43a2f-57a3-4653-9d4a-34953977c9d2",
   "metadata": {},
   "source": [
    "## **RELATIONAL DATA**\n",
    "___"
   ]
  },
  {
   "cell_type": "markdown",
   "id": "17c4a129-cace-4f4a-97fb-2c7528d75e7f",
   "metadata": {},
   "source": [
    "### **1. Los 10 equipos más goleadores**"
   ]
  },
  {
   "cell_type": "code",
   "execution_count": null,
   "id": "35d44a81-3f9d-49e7-9235-13f230107fd5",
   "metadata": {},
   "outputs": [],
   "source": [
    "df_team <- inner_join(teams, teamstats, by=\"teamID\")"
   ]
  },
  {
   "cell_type": "code",
   "execution_count": null,
   "id": "17afc7d7-8a32-4cfe-9a62-a1b583957990",
   "metadata": {},
   "outputs": [],
   "source": [
    "str(df_team)"
   ]
  },
  {
   "cell_type": "code",
   "execution_count": null,
   "id": "2ade99d1-e0e6-4e33-b317-6cf9412ef781",
   "metadata": {},
   "outputs": [],
   "source": [
    "team_goals <- group_by(df_team, teamID) %>% mutate(total_goals=sum(goals)) %>% arrange(desc(total_goals)) %>%\n",
    "    subset(select=-c(yellowCards, redCards, result, season, gameID, date, location, goals, fouls, corners, ppda))"
   ]
  },
  {
   "cell_type": "code",
   "execution_count": null,
   "id": "0753d810-f16d-4ffd-bd50-6f0bbb26e5b7",
   "metadata": {},
   "outputs": [],
   "source": [
    "best_10_goals <- distinct(team_goals, teamID, .keep_all=TRUE)\n",
    "best_10_goals <- head(best_10_goals, 10) %>% arrange(desc(total_goals))"
   ]
  },
  {
   "cell_type": "code",
   "execution_count": null,
   "id": "5f8be9a4-0e91-46f3-86b7-99deabb1d0a3",
   "metadata": {},
   "outputs": [],
   "source": [
    "best_10_goals"
   ]
  },
  {
   "cell_type": "markdown",
   "id": "bc693543-4a01-4a5a-a5b3-3e7dc1fae75f",
   "metadata": {},
   "source": [
    "### **2. Gráfica de los 10 equipos más goleadores**"
   ]
  },
  {
   "cell_type": "code",
   "execution_count": null,
   "id": "50a4f95d-0d89-4b42-b933-b8c3274cb07c",
   "metadata": {},
   "outputs": [],
   "source": [
    "ggplot(best_10_goals, aes(x=reorder(name, total_goals), y=total_goals)) + \n",
    "    geom_bar(stat = \"identity\") +\n",
    "    geom_label(aes(label=total_goals),\n",
    "                #vjust=-0.9, \n",
    "                color=\"dark orange\", \n",
    "                hjust=\"center\", \n",
    "                angle=0, \n",
    "                size=6.0,\n",
    "                fontface=\"bold\"\n",
    "            ) +\n",
    "    coord_cartesian(ylim=c(450, 720)) +\n",
    "    theme(axis.line = element_line(colour = \"black\", size = 1), text = element_text(size = 24)) +\n",
    "    theme(axis.text.x = element_text(angle = 45, vjust = 1, hjust=1), plot.title = element_text(color=\"Black\", size=28, face=\"bold\")) +\n",
    "    labs(x=\"Teams\", y=\"Goals per year, 2015\", title=\"Top 10 scoring teams\")"
   ]
  },
  {
   "cell_type": "markdown",
   "id": "15635ccf-dbf0-4a48-a95a-7e35c950bece",
   "metadata": {},
   "source": [
    "### **3. Gráfica de los 10 equipos con mayor número de tiros al arco**"
   ]
  },
  {
   "cell_type": "code",
   "execution_count": null,
   "id": "30fb6058-3716-4f66-a002-c0549031588f",
   "metadata": {},
   "outputs": [],
   "source": [
    "best_10_shots <- group_by(team_goals, teamID) %>% mutate(total_shots=sum(shots)) %>%\n",
    "    summarise(name, total_goals, total_shots, total_deep=sum(deep), total_OnTarget=sum(shotsOnTarget)) %>%\n",
    "    arrange(desc(total_shots)) %>% distinct(teamID, .keep_all=TRUE)"
   ]
  },
  {
   "cell_type": "code",
   "execution_count": null,
   "id": "5f62d4e9-b661-4544-af2b-49e4092075eb",
   "metadata": {},
   "outputs": [],
   "source": [
    "best_10_shots <- head(best_10_shots, 10)\n",
    "best_10_shots"
   ]
  },
  {
   "cell_type": "code",
   "execution_count": null,
   "id": "308e9f60-015f-4733-8038-1e195e14012d",
   "metadata": {},
   "outputs": [],
   "source": [
    "ggplot(best_10_shots, aes(x=reorder(name, total_shots), y=total_shots, fill=total_OnTarget)) + \n",
    "    geom_bar(stat = \"identity\") +\n",
    "    geom_label(aes(label=total_goals),\n",
    "                color=\"white\", \n",
    "                hjust=\"center\", \n",
    "                angle=0, \n",
    "                size=6.0,\n",
    "                fontface=\"bold\"\n",
    "            ) +\n",
    "    coord_cartesian(ylim=c(3900, 4700)) +\n",
    "    theme(axis.line = element_line(colour = \"black\", size = 1), text = element_text(size = 24)) +\n",
    "    theme(axis.text.x = element_text(angle = 45, vjust = 1, hjust=1), plot.title = element_text(color=\"Dark Blue\", size=28, face=\"bold\")) +\n",
    "    labs(x=\"Teams\", y=\"Goals per year, 2015\", fill=\"On Target Shots\", title=\"Top 10 teams with the most shots on goal\")"
   ]
  },
  {
   "cell_type": "markdown",
   "id": "8379d5cd-ba55-4c47-88c6-1a8988be1b10",
   "metadata": {},
   "source": [
    "### **4.  Gráfica de los 10 equipos más goleadores y con mayor número de tiros al arco**"
   ]
  },
  {
   "cell_type": "code",
   "execution_count": null,
   "id": "327c32bc-1701-4caf-9335-49078e4b198e",
   "metadata": {},
   "outputs": [],
   "source": [
    "best_10 <- group_by(team_goals, teamID, shots) %>% mutate(total_shots=sum(shots)) %>% group_by(teamID, total_goals, total_shots) \n",
    "    summarise(name, total_goals, total_shots, total_deep=sum(deep), total_OnTarget=sum(shotsOnTarget)) %>%\n",
    "    arrange(desc(total_shots)) %>% distinct(teamID, .keep_all=TRUE)"
   ]
  },
  {
   "cell_type": "code",
   "execution_count": null,
   "id": "72549055-d468-4574-8737-3a0e6454bee6",
   "metadata": {},
   "outputs": [],
   "source": [
    "ggplot(best_10, aes(x=reorder(name, total_shots))) + \n",
    "    geom_point(aes(y=total_shots), size=5, color=\"dark green\") +\n",
    "    geom_label(aes(label=total_shots, y=total_shots),\n",
    "                vjust=\"bottom\",\n",
    "                color=\"dark green\", \n",
    "                hjust=\"left\", \n",
    "                angle=0, \n",
    "                size=6.0,\n",
    "                fontface=\"bold\",\n",
    "                nudge_x=0.05,\n",
    "            ) +\n",
    "    geom_point(aes(y=total_goals), size=5, color=\"dark orange\") +\n",
    "    geom_label(aes(label=total_goals, y=total_goals),\n",
    "                vjust=\"bottom\",\n",
    "                color=\"dark orange\", \n",
    "                hjust=\"left\", \n",
    "                angle=0, \n",
    "                size=6.0,\n",
    "                fontface=\"bold\",\n",
    "                nudge_x=0.05,\n",
    "            ) +\n",
    "    theme(axis.line = element_line(colour = \"black\", size = 1), text = element_text(size = 24)) +\n",
    "    theme(axis.text.x = element_text(angle = 45, vjust = 1, hjust=1), plot.title = element_text(color=\"Dark Blue\", size=28, face=\"bold\")) +\n",
    "    labs(x=\"Teams\", y=\"Goals per year, 2015\", title=\"Top 10 scoring teams and with the most shots on goal\")"
   ]
  },
  {
   "cell_type": "code",
   "execution_count": null,
   "id": "6e6721b8-d71d-47be-bc3f-825c24321821",
   "metadata": {},
   "outputs": [],
   "source": []
  },
  {
   "cell_type": "code",
   "execution_count": null,
   "id": "dc14fbcb-3015-432b-ba89-253aee38a9e8",
   "metadata": {},
   "outputs": [],
   "source": []
  },
  {
   "cell_type": "code",
   "execution_count": null,
   "id": "ebf331e4-6e55-4ec0-b499-e901ed05aabb",
   "metadata": {},
   "outputs": [],
   "source": []
  },
  {
   "cell_type": "markdown",
   "id": "abd4bc4a-d7c9-4490-bcc5-cadbdc4ec36d",
   "metadata": {},
   "source": [
    "### **Datos:**\n",
    "\n",
    "#### <a id=\"1\"></a> Pablo Peitsch\n",
    "#### Mis repositorios de Github: <a href=\"https://github.com/PPeitsch\">@PPeitsch</a>\n",
    "#### Los datasets fueron adquiridos de: <a href=\"https://www.kaggle.com/datasets/technika148/football-database\">Football dataset</a>\n",
    "#### Información sobre la variable Xstats, Expected Goals (xG):\n",
    "- <a href=\"https://understat.com/\">understat.com</a>\n",
    "- <a href=\"https://onefootball.com/es/noticias/que-son-los-expected-goals-xg-30199741\">onefootball.com</a>\n"
   ]
  },
  {
   "cell_type": "code",
   "execution_count": null,
   "id": "c4ddf372-c1d9-491a-9a95-44b7e5c30158",
   "metadata": {},
   "outputs": [],
   "source": []
  }
 ],
 "metadata": {
  "kernelspec": {
   "display_name": "R",
   "language": "R",
   "name": "ir"
  },
  "language_info": {
   "codemirror_mode": "r",
   "file_extension": ".r",
   "mimetype": "text/x-r-source",
   "name": "R",
   "pygments_lexer": "r",
   "version": "4.1.3"
  }
 },
 "nbformat": 4,
 "nbformat_minor": 5
}
