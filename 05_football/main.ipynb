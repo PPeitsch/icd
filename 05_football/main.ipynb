{
 "cells": [
  {
   "cell_type": "markdown",
   "id": "5dd0822c-27f6-485d-a7f2-8450ca8feba5",
   "metadata": {},
   "source": [
    "# **05 - Football Dataset**\n",
    "___\n",
    "\n",
    "#### **Autor/es:**\n",
    "- Peitsch, Pablo [[1]](#1)\n",
    "\n",
    "**Fecha:** 2022-09-06"
   ]
  },
  {
   "cell_type": "markdown",
   "id": "f01cbce2-f769-41c9-92f1-b9ae017cc466",
   "metadata": {},
   "source": [
    "## **DATASETS**\n",
    "___"
   ]
  },
  {
   "cell_type": "markdown",
   "id": "001a1216-bb6a-4c82-9504-15065c160f22",
   "metadata": {},
   "source": [
    "### **1. Data exploration**\n",
    "\n",
    "Luego de importar los paquetes necesarios, se exploran los datasets para su posterior análisis."
   ]
  },
  {
   "cell_type": "code",
   "execution_count": 1,
   "id": "944413db-7e24-429d-9ce6-7f0d0996733e",
   "metadata": {},
   "outputs": [
    {
     "name": "stderr",
     "output_type": "stream",
     "text": [
      "── \u001b[1mAttaching packages\u001b[22m ─────────────────────────────────────── tidyverse 1.3.1 ──\n",
      "\n",
      "\u001b[32m✔\u001b[39m \u001b[34mggplot2\u001b[39m 3.3.6     \u001b[32m✔\u001b[39m \u001b[34mpurrr  \u001b[39m 0.3.4\n",
      "\u001b[32m✔\u001b[39m \u001b[34mtibble \u001b[39m 3.1.7     \u001b[32m✔\u001b[39m \u001b[34mdplyr  \u001b[39m 1.0.9\n",
      "\u001b[32m✔\u001b[39m \u001b[34mtidyr  \u001b[39m 1.2.0     \u001b[32m✔\u001b[39m \u001b[34mstringr\u001b[39m 1.4.0\n",
      "\u001b[32m✔\u001b[39m \u001b[34mreadr  \u001b[39m 2.1.2     \u001b[32m✔\u001b[39m \u001b[34mforcats\u001b[39m 0.5.1\n",
      "\n",
      "── \u001b[1mConflicts\u001b[22m ────────────────────────────────────────── tidyverse_conflicts() ──\n",
      "\u001b[31m✖\u001b[39m \u001b[34mdplyr\u001b[39m::\u001b[32mfilter()\u001b[39m masks \u001b[34mstats\u001b[39m::filter()\n",
      "\u001b[31m✖\u001b[39m \u001b[34mdplyr\u001b[39m::\u001b[32mlag()\u001b[39m    masks \u001b[34mstats\u001b[39m::lag()\n",
      "\n"
     ]
    }
   ],
   "source": [
    "# Library imports\n",
    "library(tidyverse)\n",
    "# Datasets folder\n",
    "data_folder <- \"datasets\"\n",
    "# Files list of datasets folder\n",
    "list_files <- list.files(data_folder)\n",
    "# Number of datasets\n",
    "n <- length(list_files)"
   ]
  },
  {
   "cell_type": "code",
   "execution_count": 26,
   "id": "241d45ca-8355-4da4-9bb4-08b4a823067f",
   "metadata": {},
   "outputs": [],
   "source": [
    "# Name list of datasets\n",
    "d_names <- list()\n",
    "f_names <- list()\n",
    "for (i in 1:n){\n",
    "    f_names[i] <- list_files[i]\n",
    "    temp_name <- list_files[i]\n",
    "    temp_name <- tools::file_path_sans_ext(temp_name)\n",
    "    d_names[i] <- temp_name\n",
    "    temp_df <- read.csv(file.path(data_folder, f_names[i]), dec=\",\")\n",
    "    assign(d_names[[i]], temp_df)\n",
    "}"
   ]
  },
  {
   "cell_type": "code",
   "execution_count": 66,
   "id": "4f0cdd5f-74e1-47bb-a2a6-6b185016e1d9",
   "metadata": {},
   "outputs": [
    {
     "name": "stdout",
     "output_type": "stream",
     "text": [
      "[1] \"appearances\"\n",
      "'data.frame':\t356513 obs. of  19 variables:\n",
      " $ gameID       : int  81 81 81 81 81 81 81 81 81 81 ...\n",
      " $ playerID     : int  560 557 548 628 1006 551 654 554 555 631 ...\n",
      " $ goals        : int  0 0 0 0 0 0 0 0 0 0 ...\n",
      " $ ownGoals     : int  0 0 0 0 0 0 0 0 0 0 ...\n",
      " $ shots        : int  0 0 0 0 0 0 0 3 3 1 ...\n",
      " $ xGoals       : chr  \"0\" \"0\" \"0\" \"0\" ...\n",
      " $ xGoalsChain  : chr  \"0\" \"0.106513060629368\" \"0.127737730741501\" \"0.106513060629368\" ...\n",
      " $ xGoalsBuildup: chr  \"0\" \"0.106513060629368\" \"0.127737730741501\" \"0.106513060629368\" ...\n",
      " $ assists      : int  0 0 0 0 0 0 0 0 0 0 ...\n",
      " $ keyPasses    : int  0 1 0 0 0 0 1 0 0 1 ...\n",
      " $ xAssists     : chr  \"0\" \"0.106513060629368\" \"0\" \"0\" ...\n",
      " $ position     : chr  \"GK\" \"DR\" \"DC\" \"DC\" ...\n",
      " $ positionOrder: int  1 2 3 3 4 7 7 11 12 13 ...\n",
      " $ yellowCard   : int  0 0 0 0 0 0 0 1 0 0 ...\n",
      " $ redCard      : int  0 0 0 0 0 0 0 0 0 0 ...\n",
      " $ time         : int  90 82 90 90 90 90 61 90 69 90 ...\n",
      " $ substituteIn : int  0 222605 0 0 0 0 222606 0 222607 0 ...\n",
      " $ substituteOut: int  0 0 0 0 0 0 0 0 0 0 ...\n",
      " $ leagueID     : int  1 1 1 1 1 1 1 1 1 1 ...\n",
      " [1] \"gameID\"        \"playerID\"      \"goals\"         \"ownGoals\"     \n",
      " [5] \"shots\"         \"xGoals\"        \"xGoalsChain\"   \"xGoalsBuildup\"\n",
      " [9] \"assists\"       \"keyPasses\"     \"xAssists\"      \"position\"     \n",
      "[13] \"positionOrder\" \"yellowCard\"    \"redCard\"       \"time\"         \n",
      "[17] \"substituteIn\"  \"substituteOut\" \"leagueID\"     \n",
      "[1] \"----------\"\n",
      "[1] \"games\"\n",
      "'data.frame':\t12680 obs. of  11 variables:\n",
      " $ gameID         : int  81 82 83 84 85 86 87 88 89 90 ...\n",
      " $ leagueID       : int  1 1 1 1 1 1 1 1 1 1 ...\n",
      " $ season         : int  2015 2015 2015 2015 2015 2015 2015 2015 2015 2015 ...\n",
      " $ date           : chr  \"2015-08-08 15:45:00\" \"2015-08-08 18:00:00\" \"2015-08-08 18:00:00\" \"2015-08-08 18:00:00\" ...\n",
      " $ homeTeamID     : int  89 73 72 75 79 80 86 83 85 76 ...\n",
      " $ awayTeamID     : int  82 71 90 77 78 84 74 81 87 88 ...\n",
      " $ homeGoals      : int  1 0 2 4 1 2 2 0 0 0 ...\n",
      " $ awayGoals      : int  0 1 2 2 3 2 2 2 1 3 ...\n",
      " $ homeProbability: chr  \"0.2843\" \"0.3574\" \"0.2988\" \"0.6422\" ...\n",
      " $ drawProbability: chr  \"0.3999\" \"0.35\" \"0.4337\" \"0.2057\" ...\n",
      " $ awayProbability: chr  \"0.3158\" \"0.2926\" \"0.2675\" \"0.1521\" ...\n",
      " [1] \"gameID\"          \"leagueID\"        \"season\"          \"date\"           \n",
      " [5] \"homeTeamID\"      \"awayTeamID\"      \"homeGoals\"       \"awayGoals\"      \n",
      " [9] \"homeProbability\" \"drawProbability\" \"awayProbability\"\n",
      "[1] \"----------\"\n",
      "[1] \"leagues\"\n",
      "'data.frame':\t5 obs. of  3 variables:\n",
      " $ leagueID         : int  1 2 3 4 5\n",
      " $ name             : chr  \"Premier League\" \"Serie A\" \"Bundesliga\" \"La Liga\" ...\n",
      " $ understatNotation: chr  \"EPL\" \"Serie_A\" \"Bundesliga\" \"La_liga\" ...\n",
      "[1] \"leagueID\"          \"name\"              \"understatNotation\"\n",
      "[1] \"----------\"\n",
      "[1] \"players\"\n",
      "'data.frame':\t7659 obs. of  2 variables:\n",
      " $ playerID: int  560 557 548 628 1006 551 654 554 555 631 ...\n",
      " $ name    : chr  \"Sergio Romero\" \"Matteo Darmian\" \"Daley Blind\" \"Chris Smalling\" ...\n",
      "[1] \"playerID\" \"name\"    \n",
      "[1] \"----------\"\n",
      "[1] \"shots\"\n",
      "'data.frame':\t324543 obs. of  11 variables:\n",
      " $ gameID    : int  81 81 81 81 81 81 81 81 81 81 ...\n",
      " $ shooterID : int  554 555 554 554 555 555 631 629 629 646 ...\n",
      " $ assisterID: int  NA 631 629 NA 654 629 NA 557 NA 647 ...\n",
      " $ minute    : int  27 27 35 35 40 49 64 72 76 4 ...\n",
      " $ situation : chr  \"DirectFreekick\" \"SetPiece\" \"OpenPlay\" \"OpenPlay\" ...\n",
      " $ lastAction: chr  \"Standard\" \"Pass\" \"Pass\" \"Tackle\" ...\n",
      " $ shotType  : chr  \"LeftFoot\" \"RightFoot\" \"LeftFoot\" \"LeftFoot\" ...\n",
      " $ shotResult: chr  \"BlockedShot\" \"BlockedShot\" \"BlockedShot\" \"MissedShots\" ...\n",
      " $ xGoal     : chr  \"0.104346722364426\" \"0.064342200756073\" \"0.0571568161249161\" \"0.0921413898468018\" ...\n",
      " $ positionX : chr  \"0.794000015258789\" \"0.86\" \"0.843000030517578\" \"0.848000030517578\" ...\n",
      " $ positionY : chr  \"0.420999984741211\" \"0.627000007629395\" \"0.332999992370605\" \"0.532999992370605\" ...\n",
      " [1] \"gameID\"     \"shooterID\"  \"assisterID\" \"minute\"     \"situation\" \n",
      " [6] \"lastAction\" \"shotType\"   \"shotResult\" \"xGoal\"      \"positionX\" \n",
      "[11] \"positionY\" \n",
      "[1] \"----------\"\n",
      "[1] \"teams\"\n",
      "'data.frame':\t146 obs. of  2 variables:\n",
      " $ teamID: int  71 72 74 75 76 77 78 80 81 82 ...\n",
      " $ name  : chr  \"Aston Villa\" \"Everton\" \"Southampton\" \"Leicester\" ...\n",
      "[1] \"teamID\" \"name\"  \n",
      "[1] \"----------\"\n",
      "[1] \"teamstats\"\n",
      "'data.frame':\t25360 obs. of  16 variables:\n",
      " $ gameID       : int  81 81 82 82 83 83 84 84 85 85 ...\n",
      " $ teamID       : int  89 82 73 71 72 90 75 77 79 78 ...\n",
      " $ season       : int  2015 2015 2015 2015 2015 2015 2015 2015 2015 2015 ...\n",
      " $ date         : chr  \"2015-08-08 15:45:00\" \"2015-08-08 15:45:00\" \"2015-08-08 18:00:00\" \"2015-08-08 18:00:00\" ...\n",
      " $ location     : chr  \"h\" \"a\" \"h\" \"a\" ...\n",
      " $ goals        : int  1 0 0 1 2 2 4 2 1 3 ...\n",
      " $ xGoals       : chr  \"0.627539\" \"0.6746\" \"0.876106\" \"0.782253\" ...\n",
      " $ shots        : int  9 9 11 7 10 11 19 11 17 11 ...\n",
      " $ shotsOnTarget: int  1 4 2 3 5 5 8 5 6 7 ...\n",
      " $ deep         : int  4 10 11 2 5 4 5 6 5 10 ...\n",
      " $ ppda         : chr  \"13.8261\" \"8.2188\" \"6.9\" \"11.8462\" ...\n",
      " $ fouls        : int  12 12 13 13 7 13 13 17 14 20 ...\n",
      " $ corners      : int  1 2 6 3 8 2 6 3 1 4 ...\n",
      " $ yellowCards  : int  2 3 3 4 1 2 2 4 1 0 ...\n",
      " $ redCards     : int  0 0 0 0 0 0 0 0 0 0 ...\n",
      " $ result       : chr  \"W\" \"L\" \"L\" \"W\" ...\n",
      " [1] \"gameID\"        \"teamID\"        \"season\"        \"date\"         \n",
      " [5] \"location\"      \"goals\"         \"xGoals\"        \"shots\"        \n",
      " [9] \"shotsOnTarget\" \"deep\"          \"ppda\"          \"fouls\"        \n",
      "[13] \"corners\"       \"yellowCards\"   \"redCards\"      \"result\"       \n",
      "[1] \"----------\"\n"
     ]
    }
   ],
   "source": [
    "# Structure of datasets, data variables and typesa cell in jupyter notebook, we get a nice table with the dataa cell in jupyter notebook, we get a nice table with the data\n",
    "for (i in 1:n){\n",
    "    print(d_names[[i]])\n",
    "    str(get(d_names[[i]]))\n",
    "    print(colnames(get(d_names[[i]])))\n",
    "    print(\"----------\")\n",
    "}"
   ]
  },
  {
   "cell_type": "markdown",
   "id": "21345354-7227-4bd8-8ef7-be13f9a71832",
   "metadata": {},
   "source": [
    "### **2. Foreign and principal keys**\n",
    "\n",
    "Se evalúan las claves principales y foráneas en cada dataset; luego, se muestran las imágenes generadas."
   ]
  },
  {
   "cell_type": "code",
   "execution_count": 80,
   "id": "3f26ebf3-2ad8-4446-8092-b71c978bfcf2",
   "metadata": {},
   "outputs": [
    {
     "data": {
      "text/html": [
       "<style>\n",
       ".list-inline {list-style: none; margin:0; padding: 0}\n",
       ".list-inline>li {display: inline-block}\n",
       ".list-inline>li:not(:last-child)::after {content: \"\\00b7\"; padding: 0 .5ex}\n",
       "</style>\n",
       "<ol class=list-inline><li>'appearances.jpg'</li><li>'appearances.pdf'</li><li>'players.jpg'</li><li>'players.pdf'</li><li>'teams.jpg'</li><li>'teams.pdf'</li></ol>\n"
      ],
      "text/latex": [
       "\\begin{enumerate*}\n",
       "\\item 'appearances.jpg'\n",
       "\\item 'appearances.pdf'\n",
       "\\item 'players.jpg'\n",
       "\\item 'players.pdf'\n",
       "\\item 'teams.jpg'\n",
       "\\item 'teams.pdf'\n",
       "\\end{enumerate*}\n"
      ],
      "text/markdown": [
       "1. 'appearances.jpg'\n",
       "2. 'appearances.pdf'\n",
       "3. 'players.jpg'\n",
       "4. 'players.pdf'\n",
       "5. 'teams.jpg'\n",
       "6. 'teams.pdf'\n",
       "\n",
       "\n"
      ],
      "text/plain": [
       "[1] \"appearances.jpg\" \"appearances.pdf\" \"players.jpg\"     \"players.pdf\"    \n",
       "[5] \"teams.jpg\"       \"teams.pdf\"      "
      ]
     },
     "metadata": {},
     "output_type": "display_data"
    }
   ],
   "source": [
    "# Datasets folder\n",
    "keys_folder <- \"keys\"\n",
    "# Files list of datasets folder\n",
    "list_pdf <- list.files(keys_folder)\n",
    "list_pdf"
   ]
  },
  {
   "cell_type": "markdown",
   "id": "6936c584-9bf9-4c79-afe9-a82ba45a2958",
   "metadata": {},
   "source": [
    "<img src=\"keys/appearances.jpg\" alt=\"appearances\"  width=\"900\" height=\"600\">\n",
    "<img src=\"keys/players.jpg\" alt=\"players\"  width=\"900\" height=\"600\">\n",
    "<img src=\"keys/teams.jpg\" alt=\"teams\"  width=\"900\" height=\"600\">"
   ]
  },
  {
   "cell_type": "markdown",
   "id": "57a43a2f-57a3-4653-9d4a-34953977c9d2",
   "metadata": {},
   "source": [
    "## **RELATIONAL DATA**\n",
    "___"
   ]
  },
  {
   "cell_type": "markdown",
   "id": "17c4a129-cace-4f4a-97fb-2c7528d75e7f",
   "metadata": {},
   "source": [
    "### **1. Los 10 equipos más goleadores**"
   ]
  },
  {
   "cell_type": "code",
   "execution_count": 81,
   "id": "35d44a81-3f9d-49e7-9235-13f230107fd5",
   "metadata": {},
   "outputs": [],
   "source": [
    "df_team <- inner_join(teams, teamstats, by=\"teamID\")"
   ]
  },
  {
   "cell_type": "code",
   "execution_count": 83,
   "id": "17afc7d7-8a32-4cfe-9a62-a1b583957990",
   "metadata": {},
   "outputs": [
    {
     "name": "stdout",
     "output_type": "stream",
     "text": [
      "'data.frame':\t25360 obs. of  17 variables:\n",
      " $ teamID       : int  71 71 71 71 71 71 71 71 71 71 ...\n",
      " $ name         : chr  \"Aston Villa\" \"Aston Villa\" \"Aston Villa\" \"Aston Villa\" ...\n",
      " $ gameID       : int  82 91 104 113 129 133 145 152 164 171 ...\n",
      " $ season       : int  2015 2015 2015 2015 2015 2015 2015 2015 2015 2015 ...\n",
      " $ date         : chr  \"2015-08-08 18:00:00\" \"2015-08-14 22:45:00\" \"2015-08-22 18:00:00\" \"2015-08-29 18:00:00\" ...\n",
      " $ location     : chr  \"a\" \"h\" \"a\" \"h\" ...\n",
      " $ goals        : int  1 0 1 2 2 0 2 0 0 1 ...\n",
      " $ xGoals       : chr  \"0.782253\" \"0.219118\" \"0.765278\" \"2.27406\" ...\n",
      " $ shots        : int  7 5 11 21 11 13 10 13 10 9 ...\n",
      " $ shotsOnTarget: int  3 1 2 6 4 3 4 2 1 3 ...\n",
      " $ deep         : int  2 3 6 12 5 5 2 7 2 4 ...\n",
      " $ ppda         : chr  \"11.8462\" \"10.0333\" \"8.4762\" \"8.6364\" ...\n",
      " $ fouls        : int  13 14 15 10 13 10 13 12 17 10 ...\n",
      " $ corners      : int  3 3 4 5 5 2 1 9 4 4 ...\n",
      " $ yellowCards  : int  4 2 3 2 1 2 0 1 3 2 ...\n",
      " $ redCards     : int  0 0 0 0 0 0 0 0 0 0 ...\n",
      " $ result       : chr  \"W\" \"L\" \"L\" \"D\" ...\n"
     ]
    }
   ],
   "source": [
    "str(df_team)"
   ]
  },
  {
   "cell_type": "code",
   "execution_count": 128,
   "id": "2ade99d1-e0e6-4e33-b317-6cf9412ef781",
   "metadata": {},
   "outputs": [],
   "source": [
    "team_goals <- group_by(df_team, teamID) %>% mutate(total_goals=sum(goals)) %>% arrange(desc(total_goals)) %>%\n",
    "    subset(select=-c(season, gameID, date, location, goals)) %>% distinct(teamID, .keep_all=TRUE)"
   ]
  },
  {
   "cell_type": "code",
   "execution_count": 154,
   "id": "0753d810-f16d-4ffd-bd50-6f0bbb26e5b7",
   "metadata": {},
   "outputs": [],
   "source": [
    "best_10 <- head(team_goals, 10) %>% arrange(desc(total_goals))"
   ]
  },
  {
   "cell_type": "code",
   "execution_count": 155,
   "id": "df6cb7a2-6ddc-40b6-a649-e5716b5201cf",
   "metadata": {},
   "outputs": [
    {
     "data": {
      "text/html": [
       "<table class=\"dataframe\">\n",
       "<caption>A grouped_df: 10 × 13</caption>\n",
       "<thead>\n",
       "\t<tr><th scope=col>teamID</th><th scope=col>name</th><th scope=col>xGoals</th><th scope=col>shots</th><th scope=col>shotsOnTarget</th><th scope=col>deep</th><th scope=col>ppda</th><th scope=col>fouls</th><th scope=col>corners</th><th scope=col>yellowCards</th><th scope=col>redCards</th><th scope=col>result</th><th scope=col>total_goals</th></tr>\n",
       "\t<tr><th scope=col>&lt;int&gt;</th><th scope=col>&lt;chr&gt;</th><th scope=col>&lt;chr&gt;</th><th scope=col>&lt;int&gt;</th><th scope=col>&lt;int&gt;</th><th scope=col>&lt;int&gt;</th><th scope=col>&lt;chr&gt;</th><th scope=col>&lt;int&gt;</th><th scope=col>&lt;int&gt;</th><th scope=col>&lt;int&gt;</th><th scope=col>&lt;int&gt;</th><th scope=col>&lt;chr&gt;</th><th scope=col>&lt;int&gt;</th></tr>\n",
       "</thead>\n",
       "<tbody>\n",
       "\t<tr><td>148</td><td>Barcelona          </td><td>1.76141 </td><td>10</td><td>4</td><td> 5</td><td>6.6316 </td><td>11</td><td> 4</td><td>3</td><td>0</td><td>W</td><td>698</td></tr>\n",
       "\t<tr><td>161</td><td>Paris Saint Germain</td><td>1.33457 </td><td> 7</td><td>3</td><td> 3</td><td>11.9   </td><td>17</td><td> 2</td><td>2</td><td>1</td><td>W</td><td>642</td></tr>\n",
       "\t<tr><td>150</td><td>Real Madrid        </td><td>1.54271 </td><td>27</td><td>8</td><td>11</td><td>6.28   </td><td> 4</td><td> 5</td><td>0</td><td>0</td><td>D</td><td>628</td></tr>\n",
       "\t<tr><td>117</td><td>Bayern Munich      </td><td>3.22904 </td><td>23</td><td>9</td><td> 6</td><td>4.1429 </td><td>10</td><td> 7</td><td>2</td><td>0</td><td>W</td><td>628</td></tr>\n",
       "\t<tr><td> 88</td><td>Manchester City    </td><td>1.9242  </td><td>20</td><td>7</td><td> 8</td><td>8.087  </td><td> 9</td><td> 6</td><td>1</td><td>0</td><td>W</td><td>620</td></tr>\n",
       "\t<tr><td>105</td><td>Napoli             </td><td>1.15002 </td><td>14</td><td>3</td><td> 3</td><td>4.7941 </td><td>21</td><td> 1</td><td>2</td><td>0</td><td>L</td><td>542</td></tr>\n",
       "\t<tr><td> 98</td><td>Juventus           </td><td>1.82451 </td><td>21</td><td>5</td><td>13</td><td>4.0667 </td><td>14</td><td>10</td><td>1</td><td>0</td><td>L</td><td>533</td></tr>\n",
       "\t<tr><td> 87</td><td>Liverpool          </td><td>0.329873</td><td> 8</td><td>3</td><td> 5</td><td>9.3462 </td><td>16</td><td> 5</td><td>4</td><td>0</td><td>W</td><td>519</td></tr>\n",
       "\t<tr><td>129</td><td>Borussia Dortmund  </td><td>2.42013 </td><td>18</td><td>7</td><td> 7</td><td>11.4643</td><td>13</td><td> 3</td><td>0</td><td>0</td><td>W</td><td>505</td></tr>\n",
       "\t<tr><td> 95</td><td>Roma               </td><td>1.16312 </td><td>20</td><td>7</td><td>11</td><td>6.2222 </td><td>11</td><td> 7</td><td>1</td><td>0</td><td>D</td><td>499</td></tr>\n",
       "</tbody>\n",
       "</table>\n"
      ],
      "text/latex": [
       "A grouped\\_df: 10 × 13\n",
       "\\begin{tabular}{lllllllllllll}\n",
       " teamID & name & xGoals & shots & shotsOnTarget & deep & ppda & fouls & corners & yellowCards & redCards & result & total\\_goals\\\\\n",
       " <int> & <chr> & <chr> & <int> & <int> & <int> & <chr> & <int> & <int> & <int> & <int> & <chr> & <int>\\\\\n",
       "\\hline\n",
       "\t 148 & Barcelona           & 1.76141  & 10 & 4 &  5 & 6.6316  & 11 &  4 & 3 & 0 & W & 698\\\\\n",
       "\t 161 & Paris Saint Germain & 1.33457  &  7 & 3 &  3 & 11.9    & 17 &  2 & 2 & 1 & W & 642\\\\\n",
       "\t 150 & Real Madrid         & 1.54271  & 27 & 8 & 11 & 6.28    &  4 &  5 & 0 & 0 & D & 628\\\\\n",
       "\t 117 & Bayern Munich       & 3.22904  & 23 & 9 &  6 & 4.1429  & 10 &  7 & 2 & 0 & W & 628\\\\\n",
       "\t  88 & Manchester City     & 1.9242   & 20 & 7 &  8 & 8.087   &  9 &  6 & 1 & 0 & W & 620\\\\\n",
       "\t 105 & Napoli              & 1.15002  & 14 & 3 &  3 & 4.7941  & 21 &  1 & 2 & 0 & L & 542\\\\\n",
       "\t  98 & Juventus            & 1.82451  & 21 & 5 & 13 & 4.0667  & 14 & 10 & 1 & 0 & L & 533\\\\\n",
       "\t  87 & Liverpool           & 0.329873 &  8 & 3 &  5 & 9.3462  & 16 &  5 & 4 & 0 & W & 519\\\\\n",
       "\t 129 & Borussia Dortmund   & 2.42013  & 18 & 7 &  7 & 11.4643 & 13 &  3 & 0 & 0 & W & 505\\\\\n",
       "\t  95 & Roma                & 1.16312  & 20 & 7 & 11 & 6.2222  & 11 &  7 & 1 & 0 & D & 499\\\\\n",
       "\\end{tabular}\n"
      ],
      "text/markdown": [
       "\n",
       "A grouped_df: 10 × 13\n",
       "\n",
       "| teamID &lt;int&gt; | name &lt;chr&gt; | xGoals &lt;chr&gt; | shots &lt;int&gt; | shotsOnTarget &lt;int&gt; | deep &lt;int&gt; | ppda &lt;chr&gt; | fouls &lt;int&gt; | corners &lt;int&gt; | yellowCards &lt;int&gt; | redCards &lt;int&gt; | result &lt;chr&gt; | total_goals &lt;int&gt; |\n",
       "|---|---|---|---|---|---|---|---|---|---|---|---|---|\n",
       "| 148 | Barcelona           | 1.76141  | 10 | 4 |  5 | 6.6316  | 11 |  4 | 3 | 0 | W | 698 |\n",
       "| 161 | Paris Saint Germain | 1.33457  |  7 | 3 |  3 | 11.9    | 17 |  2 | 2 | 1 | W | 642 |\n",
       "| 150 | Real Madrid         | 1.54271  | 27 | 8 | 11 | 6.28    |  4 |  5 | 0 | 0 | D | 628 |\n",
       "| 117 | Bayern Munich       | 3.22904  | 23 | 9 |  6 | 4.1429  | 10 |  7 | 2 | 0 | W | 628 |\n",
       "|  88 | Manchester City     | 1.9242   | 20 | 7 |  8 | 8.087   |  9 |  6 | 1 | 0 | W | 620 |\n",
       "| 105 | Napoli              | 1.15002  | 14 | 3 |  3 | 4.7941  | 21 |  1 | 2 | 0 | L | 542 |\n",
       "|  98 | Juventus            | 1.82451  | 21 | 5 | 13 | 4.0667  | 14 | 10 | 1 | 0 | L | 533 |\n",
       "|  87 | Liverpool           | 0.329873 |  8 | 3 |  5 | 9.3462  | 16 |  5 | 4 | 0 | W | 519 |\n",
       "| 129 | Borussia Dortmund   | 2.42013  | 18 | 7 |  7 | 11.4643 | 13 |  3 | 0 | 0 | W | 505 |\n",
       "|  95 | Roma                | 1.16312  | 20 | 7 | 11 | 6.2222  | 11 |  7 | 1 | 0 | D | 499 |\n",
       "\n"
      ],
      "text/plain": [
       "   teamID name                xGoals   shots shotsOnTarget deep ppda    fouls\n",
       "1  148    Barcelona           1.76141  10    4              5   6.6316  11   \n",
       "2  161    Paris Saint Germain 1.33457   7    3              3   11.9    17   \n",
       "3  150    Real Madrid         1.54271  27    8             11   6.28     4   \n",
       "4  117    Bayern Munich       3.22904  23    9              6   4.1429  10   \n",
       "5   88    Manchester City     1.9242   20    7              8   8.087    9   \n",
       "6  105    Napoli              1.15002  14    3              3   4.7941  21   \n",
       "7   98    Juventus            1.82451  21    5             13   4.0667  14   \n",
       "8   87    Liverpool           0.329873  8    3              5   9.3462  16   \n",
       "9  129    Borussia Dortmund   2.42013  18    7              7   11.4643 13   \n",
       "10  95    Roma                1.16312  20    7             11   6.2222  11   \n",
       "   corners yellowCards redCards result total_goals\n",
       "1   4      3           0        W      698        \n",
       "2   2      2           1        W      642        \n",
       "3   5      0           0        D      628        \n",
       "4   7      2           0        W      628        \n",
       "5   6      1           0        W      620        \n",
       "6   1      2           0        L      542        \n",
       "7  10      1           0        L      533        \n",
       "8   5      4           0        W      519        \n",
       "9   3      0           0        W      505        \n",
       "10  7      1           0        D      499        "
      ]
     },
     "metadata": {},
     "output_type": "display_data"
    }
   ],
   "source": [
    "best_10"
   ]
  },
  {
   "cell_type": "markdown",
   "id": "bc693543-4a01-4a5a-a5b3-3e7dc1fae75f",
   "metadata": {},
   "source": [
    "### **2. Gráfica de los 10 equipos más goleadores**"
   ]
  },
  {
   "cell_type": "code",
   "execution_count": 177,
   "id": "50a4f95d-0d89-4b42-b933-b8c3274cb07c",
   "metadata": {},
   "outputs": [
    {
     "data": {
      "image/png": "[encoded data removed]",
      "text/plain": [
       "plot without title"
      ]
     },
     "metadata": {
      "image/png": {
       "height": 720,
       "width": 1500
      }
     },
     "output_type": "display_data"
    }
   ],
   "source": [
    "# Se cambia tamaño del plot\n",
    "options(repr.plot.width=25, repr.plot.height=12)\n",
    "\n",
    "ggplot(best_10, aes(x=name, y=total_goals)) + \n",
    "    geom_bar(stat = \"identity\") +\n",
    "    geom_text(aes(label=total_goals),\n",
    "            vjust=-0.9, \n",
    "            color=\"black\", \n",
    "            hjust=0.5,\n",
    "            position = position_dodge(0.9),  \n",
    "            angle=0, \n",
    "            size=5.0\n",
    "            ) + \n",
    "    theme(axis.line = element_line(colour = \"black\", size = 1), text = element_text(size = 30)) +\n",
    "    theme(axis.text.x = element_text(angle = 45, vjust = 1, hjust=1)) +\n",
    "    labs(x=\"Teams\", y=\"Total goals\")"
   ]
  },
  {
   "cell_type": "markdown",
   "id": "15635ccf-dbf0-4a48-a95a-7e35c950bece",
   "metadata": {},
   "source": [
    "### **3. Tiros al arco**"
   ]
  },
  {
   "cell_type": "code",
   "execution_count": null,
   "id": "8f5deb2f-7e9b-420f-8b97-3324f84b9699",
   "metadata": {},
   "outputs": [],
   "source": []
  },
  {
   "cell_type": "markdown",
   "id": "8379d5cd-ba55-4c47-88c6-1a8988be1b10",
   "metadata": {},
   "source": [
    "### **4. Scatter plot goles totales y tiros al arco**"
   ]
  },
  {
   "cell_type": "code",
   "execution_count": null,
   "id": "72549055-d468-4574-8737-3a0e6454bee6",
   "metadata": {},
   "outputs": [],
   "source": []
  },
  {
   "cell_type": "code",
   "execution_count": null,
   "id": "6e6721b8-d71d-47be-bc3f-825c24321821",
   "metadata": {},
   "outputs": [],
   "source": []
  },
  {
   "cell_type": "markdown",
   "id": "abd4bc4a-d7c9-4490-bcc5-cadbdc4ec36d",
   "metadata": {},
   "source": [
    "### **Datos:**\n",
    "\n",
    "#### <a id=\"1\"></a> Pablo Peitsch\n",
    "#### Mis repositorios de Github: <a href=\"https://github.com/PPeitsch\">@PPeitsch</a>\n",
    "#### Los datasets fueron adquiridos de: <a href=\"https://www.kaggle.com/datasets/technika148/football-database\">Football dataset</a>\n",
    "#### Información sobre la variable Xstats, Expected Goals (xG):\n",
    "- <a href=\"https://understat.com/\">understat.com</a>\n",
    "- <a href=\"https://onefootball.com/es/noticias/que-son-los-expected-goals-xg-30199741\">onefootball.com</a>\n"
   ]
  },
  {
   "cell_type": "code",
   "execution_count": null,
   "id": "c4ddf372-c1d9-491a-9a95-44b7e5c30158",
   "metadata": {},
   "outputs": [],
   "source": []
  }
 ],
 "metadata": {
  "kernelspec": {
   "display_name": "R",
   "language": "R",
   "name": "ir"
  },
  "language_info": {
   "codemirror_mode": "r",
   "file_extension": ".r",
   "mimetype": "text/x-r-source",
   "name": "R",
   "pygments_lexer": "r",
   "version": "4.2.0"
  }
 },
 "nbformat": 4,
 "nbformat_minor": 5
}
