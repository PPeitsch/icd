{
 "cells": [
  {
   "cell_type": "markdown",
   "id": "cad78289-b5c8-40e1-9005-18d4635b7cf9",
   "metadata": {},
   "source": [
    "#### **Análisis del dataset Titanic**\n",
    "___\n",
    "##### **Autor:** Peitsch, Pablo    **Github:** <a href=\"https://github.com/PPeitsch/07_infografia\">@PPeitsch</a>    **Email:** <a href=\"mailto:preynosopeitsch@estudiantes.unsam.edu.ar\">preynosopeitsch@estudiantes.unsam.edu.ar</a>    **Fecha:** 20/03/2023"
   ]
  },
  {
   "cell_type": "code",
   "execution_count": 44,
   "id": "44d2b378-8f25-4360-8057-1c50e3038953",
   "metadata": {},
   "outputs": [],
   "source": [
    "source('process.r')"
   ]
  },
  {
   "cell_type": "code",
   "execution_count": 52,
   "id": "c874a834-a49a-4323-8a5a-e440fe2a1ceb",
   "metadata": {},
   "outputs": [],
   "source": [
    "min_ticket <- min(df_titanic$fare)\n",
    "max_ticket <- max(df_titanic$fare)\n",
    "mean_ticket <- mean(df_titanic$fare)\n",
    "\n",
    "min_age <- min(df_titanic$age)\n",
    "max_age <- max(df_titanic$age)\n",
    "mean_age <- mean(df_titanic$age)\n",
    "\n"
   ]
  },
  {
   "cell_type": "code",
   "execution_count": 53,
   "id": "19d74c77-077f-4d8f-be27-e6b077a66ed5",
   "metadata": {},
   "outputs": [
    {
     "data": {
      "text/html": [
       "4.0125"
      ],
      "text/latex": [
       "4.0125"
      ],
      "text/markdown": [
       "4.0125"
      ],
      "text/plain": [
       "[1] 4.0125"
      ]
     },
     "metadata": {},
     "output_type": "display_data"
    }
   ],
   "source": [
    "min_ticket"
   ]
  },
  {
   "cell_type": "code",
   "execution_count": 36,
   "id": "903d552b-62a8-4e97-b271-47afb2255a14",
   "metadata": {},
   "outputs": [
    {
     "name": "stdout",
     "output_type": "stream",
     "text": [
      "'data.frame':\t889 obs. of  10 variables:\n",
      " $ sex     : chr  \"male\" \"male\" \"male\" \"male\" ...\n",
      " $ age     : num  39 20 33 61 34.5 43 34 18 19 18 ...\n",
      " $ siblings: int  0 0 0 0 0 0 0 1 0 0 ...\n",
      " $ parents : int  0 0 0 0 0 0 0 0 0 0 ...\n",
      " $ fare    : num  7.18 4.01 5 6.24 6.44 ...\n",
      " $ port    : chr  \"S\" \"C\" \"S\" \"S\" ...\n",
      " $ class   : chr  \"First\" \"Third\" \"First\" \"Third\" ...\n",
      " $ who     : chr  \"man\" \"man\" \"man\" \"man\" ...\n",
      " $ alone   : logi  TRUE TRUE TRUE TRUE TRUE TRUE ...\n",
      " $ survived: chr  \"no\" \"no\" \"no\" \"no\" ...\n"
     ]
    }
   ],
   "source": [
    "str(df_titanic)"
   ]
  },
  {
   "cell_type": "code",
   "execution_count": 37,
   "id": "404fdde9-a85f-4a7f-b287-d5bedee1aae6",
   "metadata": {},
   "outputs": [
    {
     "data": {
      "text/html": [
       "<table class=\"dataframe\">\n",
       "<caption>A data.frame: 5 × 10</caption>\n",
       "<thead>\n",
       "\t<tr><th></th><th scope=col>sex</th><th scope=col>age</th><th scope=col>siblings</th><th scope=col>parents</th><th scope=col>fare</th><th scope=col>port</th><th scope=col>class</th><th scope=col>who</th><th scope=col>alone</th><th scope=col>survived</th></tr>\n",
       "\t<tr><th></th><th scope=col>&lt;chr&gt;</th><th scope=col>&lt;dbl&gt;</th><th scope=col>&lt;int&gt;</th><th scope=col>&lt;int&gt;</th><th scope=col>&lt;dbl&gt;</th><th scope=col>&lt;chr&gt;</th><th scope=col>&lt;chr&gt;</th><th scope=col>&lt;chr&gt;</th><th scope=col>&lt;lgl&gt;</th><th scope=col>&lt;chr&gt;</th></tr>\n",
       "</thead>\n",
       "<tbody>\n",
       "\t<tr><th scope=row>1</th><td>male</td><td>39.0</td><td>0</td><td>0</td><td>7.1800</td><td>S</td><td>First</td><td>man</td><td>TRUE</td><td>no</td></tr>\n",
       "\t<tr><th scope=row>2</th><td>male</td><td>20.0</td><td>0</td><td>0</td><td>4.0125</td><td>C</td><td>Third</td><td>man</td><td>TRUE</td><td>no</td></tr>\n",
       "\t<tr><th scope=row>3</th><td>male</td><td>33.0</td><td>0</td><td>0</td><td>5.0000</td><td>S</td><td>First</td><td>man</td><td>TRUE</td><td>no</td></tr>\n",
       "\t<tr><th scope=row>4</th><td>male</td><td>61.0</td><td>0</td><td>0</td><td>6.2375</td><td>S</td><td>Third</td><td>man</td><td>TRUE</td><td>no</td></tr>\n",
       "\t<tr><th scope=row>5</th><td>male</td><td>34.5</td><td>0</td><td>0</td><td>6.4375</td><td>C</td><td>Third</td><td>man</td><td>TRUE</td><td>no</td></tr>\n",
       "</tbody>\n",
       "</table>\n"
      ],
      "text/latex": [
       "A data.frame: 5 × 10\n",
       "\\begin{tabular}{r|llllllllll}\n",
       "  & sex & age & siblings & parents & fare & port & class & who & alone & survived\\\\\n",
       "  & <chr> & <dbl> & <int> & <int> & <dbl> & <chr> & <chr> & <chr> & <lgl> & <chr>\\\\\n",
       "\\hline\n",
       "\t1 & male & 39.0 & 0 & 0 & 7.1800 & S & First & man & TRUE & no\\\\\n",
       "\t2 & male & 20.0 & 0 & 0 & 4.0125 & C & Third & man & TRUE & no\\\\\n",
       "\t3 & male & 33.0 & 0 & 0 & 5.0000 & S & First & man & TRUE & no\\\\\n",
       "\t4 & male & 61.0 & 0 & 0 & 6.2375 & S & Third & man & TRUE & no\\\\\n",
       "\t5 & male & 34.5 & 0 & 0 & 6.4375 & C & Third & man & TRUE & no\\\\\n",
       "\\end{tabular}\n"
      ],
      "text/markdown": [
       "\n",
       "A data.frame: 5 × 10\n",
       "\n",
       "| <!--/--> | sex &lt;chr&gt; | age &lt;dbl&gt; | siblings &lt;int&gt; | parents &lt;int&gt; | fare &lt;dbl&gt; | port &lt;chr&gt; | class &lt;chr&gt; | who &lt;chr&gt; | alone &lt;lgl&gt; | survived &lt;chr&gt; |\n",
       "|---|---|---|---|---|---|---|---|---|---|---|\n",
       "| 1 | male | 39.0 | 0 | 0 | 7.1800 | S | First | man | TRUE | no |\n",
       "| 2 | male | 20.0 | 0 | 0 | 4.0125 | C | Third | man | TRUE | no |\n",
       "| 3 | male | 33.0 | 0 | 0 | 5.0000 | S | First | man | TRUE | no |\n",
       "| 4 | male | 61.0 | 0 | 0 | 6.2375 | S | Third | man | TRUE | no |\n",
       "| 5 | male | 34.5 | 0 | 0 | 6.4375 | C | Third | man | TRUE | no |\n",
       "\n"
      ],
      "text/plain": [
       "  sex  age  siblings parents fare   port class who alone survived\n",
       "1 male 39.0 0        0       7.1800 S    First man TRUE  no      \n",
       "2 male 20.0 0        0       4.0125 C    Third man TRUE  no      \n",
       "3 male 33.0 0        0       5.0000 S    First man TRUE  no      \n",
       "4 male 61.0 0        0       6.2375 S    Third man TRUE  no      \n",
       "5 male 34.5 0        0       6.4375 C    Third man TRUE  no      "
      ]
     },
     "metadata": {},
     "output_type": "display_data"
    }
   ],
   "source": [
    "head(df_titanic, 5)"
   ]
  },
  {
   "cell_type": "code",
   "execution_count": 38,
   "id": "523a4087-5376-45a7-8679-939a79e18001",
   "metadata": {},
   "outputs": [
    {
     "name": "stdout",
     "output_type": "stream",
     "text": [
      "Rows: 889\n",
      "Columns: 10\n",
      "$ sex      \u001b[3m\u001b[90m<chr>\u001b[39m\u001b[23m \"male\", \"male\", \"male\", \"male\", \"male\", \"male\", \"male\", \"male…\n",
      "$ age      \u001b[3m\u001b[90m<dbl>\u001b[39m\u001b[23m 39.0, 20.0, 33.0, 61.0, 34.5, 43.0, 34.0, 18.0, 19.0, 18.0, N…\n",
      "$ siblings \u001b[3m\u001b[90m<int>\u001b[39m\u001b[23m 0, 0, 0, 0, 0, 0, 0, 1, 0, 0, 0, 0, 0, 0, 1, 0, 0, 0, 0, 0, 0…\n",
      "$ parents  \u001b[3m\u001b[90m<int>\u001b[39m\u001b[23m 0, 0, 0, 0, 0, 0, 0, 0, 0, 0, 0, 0, 0, 0, 0, 0, 0, 0, 0, 0, 0…\n",
      "$ fare     \u001b[3m\u001b[90m<dbl>\u001b[39m\u001b[23m 7.1800, 4.0125, 5.0000, 6.2375, 6.4375, 6.4500, 6.4958, 6.495…\n",
      "$ port     \u001b[3m\u001b[90m<chr>\u001b[39m\u001b[23m \"S\", \"C\", \"S\", \"S\", \"C\", \"S\", \"S\", \"S\", \"Q\", \"Q\", \"Q\", \"Q\", \"…\n",
      "$ class    \u001b[3m\u001b[90m<chr>\u001b[39m\u001b[23m \"First\", \"Third\", \"First\", \"Third\", \"Third\", \"Third\", \"Third\"…\n",
      "$ who      \u001b[3m\u001b[90m<chr>\u001b[39m\u001b[23m \"man\", \"man\", \"man\", \"man\", \"man\", \"man\", \"man\", \"man\", \"man\"…\n",
      "$ alone    \u001b[3m\u001b[90m<lgl>\u001b[39m\u001b[23m TRUE, TRUE, TRUE, TRUE, TRUE, TRUE, TRUE, FALSE, TRUE, TRUE, …\n",
      "$ survived \u001b[3m\u001b[90m<chr>\u001b[39m\u001b[23m \"no\", \"no\", \"no\", \"no\", \"no\", \"no\", \"no\", \"no\", \"no\", \"no\", \"…\n"
     ]
    }
   ],
   "source": [
    "glimpse(df_titanic)"
   ]
  },
  {
   "cell_type": "code",
   "execution_count": 41,
   "id": "2d4b9442-e375-4506-944b-9ec3d30ff8f4",
   "metadata": {},
   "outputs": [
    {
     "data": {
      "text/html": [
       "'list'"
      ],
      "text/latex": [
       "'list'"
      ],
      "text/markdown": [
       "'list'"
      ],
      "text/plain": [
       "[1] \"list\""
      ]
     },
     "metadata": {},
     "output_type": "display_data"
    }
   ],
   "source": [
    "typeof(df_titanic)"
   ]
  },
  {
   "cell_type": "code",
   "execution_count": null,
   "id": "830c0453-7286-4295-8e28-2a9623af678a",
   "metadata": {},
   "outputs": [],
   "source": [
    "min()"
   ]
  }
 ],
 "metadata": {
  "kernelspec": {
   "display_name": "R",
   "language": "R",
   "name": "ir"
  },
  "language_info": {
   "codemirror_mode": "r",
   "file_extension": ".r",
   "mimetype": "text/x-r-source",
   "name": "R",
   "pygments_lexer": "r",
   "version": "4.2.2"
  }
 },
 "nbformat": 4,
 "nbformat_minor": 5
}
