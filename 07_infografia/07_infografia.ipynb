{
 "cells": [
  {
   "cell_type": "markdown",
   "id": "fdce3034-dde7-4eab-878d-e59369ffe2b0",
   "metadata": {},
   "source": [
    "#### **07 Infografía - Flights Dataset**\n",
    "___\n",
    "##### **Autor:** Peitsch, Pablo\n",
    "##### **Github:** <a href=\"https://github.com/PPeitsch\">@PPeitsch</a> **Fecha:** 2022-10-16"
   ]
  },
  {
   "cell_type": "code",
   "execution_count": 1,
   "id": "bedace17-7446-40f9-b1be-50b1bfc95a7f",
   "metadata": {
    "tags": []
   },
   "outputs": [
    {
     "name": "stderr",
     "output_type": "stream",
     "text": [
      "── \u001b[1mAttaching packages\u001b[22m ─────────────────────────────────────── tidyverse 1.3.1 ──\n",
      "\n",
      "\u001b[32m✔\u001b[39m \u001b[34mggplot2\u001b[39m 3.3.6     \u001b[32m✔\u001b[39m \u001b[34mpurrr  \u001b[39m 0.3.4\n",
      "\u001b[32m✔\u001b[39m \u001b[34mtibble \u001b[39m 3.1.7     \u001b[32m✔\u001b[39m \u001b[34mdplyr  \u001b[39m 1.0.9\n",
      "\u001b[32m✔\u001b[39m \u001b[34mtidyr  \u001b[39m 1.2.0     \u001b[32m✔\u001b[39m \u001b[34mstringr\u001b[39m 1.4.0\n",
      "\u001b[32m✔\u001b[39m \u001b[34mreadr  \u001b[39m 2.1.2     \u001b[32m✔\u001b[39m \u001b[34mforcats\u001b[39m 0.5.1\n",
      "\n",
      "── \u001b[1mConflicts\u001b[22m ────────────────────────────────────────── tidyverse_conflicts() ──\n",
      "\u001b[31m✖\u001b[39m \u001b[34mdplyr\u001b[39m::\u001b[32mfilter()\u001b[39m masks \u001b[34mstats\u001b[39m::filter()\n",
      "\u001b[31m✖\u001b[39m \u001b[34mdplyr\u001b[39m::\u001b[32mlag()\u001b[39m    masks \u001b[34mstats\u001b[39m::lag()\n",
      "\n",
      "\n",
      "Attaching package: ‘reshape2’\n",
      "\n",
      "\n",
      "The following object is masked from ‘package:tidyr’:\n",
      "\n",
      "    smiths\n",
      "\n",
      "\n",
      "\n",
      "Attaching package: ‘gridExtra’\n",
      "\n",
      "\n",
      "The following object is masked from ‘package:dplyr’:\n",
      "\n",
      "    combine\n",
      "\n",
      "\n",
      "Warning message in carrier == c(\"OO\", \"HA\", \"FL\", \"F9\", \"AS\", \"9E\"):\n",
      "“longer object length is not a multiple of shorter object length”\n",
      "\u001b[1m\u001b[22m`summarise()` has grouped output by 'month'. You can override using the\n",
      "`.groups` argument.\n",
      "Warning message in carrier == c(\"OO\", \"HA\", \"FL\", \"F9\", \"AS\", \"9E\"):\n",
      "“longer object length is not a multiple of shorter object length”\n"
     ]
    }
   ],
   "source": [
    "source('process.r')"
   ]
  },
  {
   "cell_type": "markdown",
   "id": "4c394692-f1fe-4047-82fe-2cd988be74ea",
   "metadata": {},
   "source": [
    "##### En principio, se estudian debajo en conjunto las demoras de despegue y arribo para todas las companías con un gráfico tipo violín. Se puede observar en la Fig. 1 que, si bien hay retrasos significativos, no son de mayor peso, mayormente incluso parten antes y llegan antes."
   ]
  },
  {
   "cell_type": "code",
   "execution_count": 2,
   "id": "04fcd498-ec66-4cef-a64e-e834524b9738",
   "metadata": {
    "tags": []
   },
   "outputs": [
    {
     "name": "stderr",
     "output_type": "stream",
     "text": [
      "Warning message:\n",
      "“Removed 17685 rows containing non-finite values (stat_ydensity).”\n"
     ]
    },
    {
     "data": {
      "text/html": [
       "<strong>png:</strong> 2"
      ],
      "text/latex": [
       "\\textbf{png:} 2"
      ],
      "text/markdown": [
       "**png:** 2"
      ],
      "text/plain": [
       "png \n",
       "  2 "
      ]
     },
     "metadata": {},
     "output_type": "display_data"
    }
   ],
   "source": [
    "# Cambia tamaño del plot\n",
    "options(repr.plot.width=25, repr.plot.height=5)\n",
    "jpeg(file=file.path(fig_folder, fig1_name), width=1200, height=300)\n",
    "p1\n",
    "dev.off()"
   ]
  },
  {
   "cell_type": "markdown",
   "id": "9ede99f5-0afc-4fc0-a4db-a3b1d3878ea7",
   "metadata": {
    "tags": []
   },
   "source": [
    "##### **_Figura 1._** Distribución del retraso en partidas y arribos de los vuelos para las distintas compañías en el año 2013."
   ]
  },
  {
   "cell_type": "markdown",
   "id": "745dd9c1-13dc-437e-baeb-e75ce6ecddd6",
   "metadata": {},
   "source": [
    "##### Otra forma de evaluar el conjunto de estos datos es mediante un  gráfico de densidad. En este caso, en la Fig. 2, se grafica lo mismo, rellenando por color según el mes. Aquí se puede ver claramente que hay un retraso significativo en ciertos meses del año para la compañía OO, y pareciera un retraso generalizado, aunque con menor peso, para otras compañías como YV, HA, FL, F9, AS y 9E. De todas formas, los retrasos no parecieran extenderse por más de 8min. Veamos qué sucede con estas compañías."
   ]
  },
  {
   "cell_type": "code",
   "execution_count": 3,
   "id": "1fd1f4f8-bbfa-4cf0-bb45-a0718a9e5cd3",
   "metadata": {
    "tags": []
   },
   "outputs": [
    {
     "name": "stderr",
     "output_type": "stream",
     "text": [
      "Picking joint bandwidth of 0.0779\n",
      "\n",
      "Warning message:\n",
      "“Removed 17685 rows containing non-finite values (stat_density_ridges).”\n"
     ]
    },
    {
     "data": {
      "text/html": [
       "<strong>png:</strong> 2"
      ],
      "text/latex": [
       "\\textbf{png:} 2"
      ],
      "text/markdown": [
       "**png:** 2"
      ],
      "text/plain": [
       "png \n",
       "  2 "
      ]
     },
     "metadata": {},
     "output_type": "display_data"
    }
   ],
   "source": [
    "# Cambia tamaño del plot\n",
    "options(repr.plot.width=20, repr.plot.height=12)\n",
    "jpeg(file=file.path(fig_folder, fig2_name), width=1200, height=600)\n",
    "p2\n",
    "dev.off()"
   ]
  },
  {
   "cell_type": "markdown",
   "id": "8f3b7863-39fd-4897-8c21-b613f0080990",
   "metadata": {},
   "source": [
    "##### **_Figura 2._** Distribución del retraso en partidas y arribos de los vuelos para las distintas compañías en el año 2013, evaluados por mes."
   ]
  },
  {
   "cell_type": "code",
   "execution_count": 4,
   "id": "a284ad1f-6287-421f-b372-388597886f3e",
   "metadata": {},
   "outputs": [
    {
     "name": "stderr",
     "output_type": "stream",
     "text": [
      "Warning message:\n",
      "“Removed 182 rows containing non-finite values (stat_boxplot).”\n",
      "Warning message:\n",
      "“Removed 201 rows containing non-finite values (stat_boxplot).”\n"
     ]
    },
    {
     "data": {
      "text/html": [
       "<strong>png:</strong> 2"
      ],
      "text/latex": [
       "\\textbf{png:} 2"
      ],
      "text/markdown": [
       "**png:** 2"
      ],
      "text/plain": [
       "png \n",
       "  2 "
      ]
     },
     "metadata": {},
     "output_type": "display_data"
    }
   ],
   "source": [
    "# Cambia tamaño del plot\n",
    "options(repr.plot.width=20, repr.plot.height=12)\n",
    "jpeg(file=file.path(fig_folder, fig3_name), width=1200, height=600)\n",
    "grid.arrange(p3, p4)\n",
    "dev.off()"
   ]
  },
  {
   "cell_type": "markdown",
   "id": "efcf6659-aba5-4bef-a46f-0a6ecc942c00",
   "metadata": {},
   "source": [
    "##### **_Figura 3._** Distribución del retraso en partidas y arribos de los vuelos para las compañías OO, HA, FL, F9, AS y 9E, en el año 2013 evaluados por mes."
   ]
  },
  {
   "cell_type": "markdown",
   "id": "f16e156b-d3c0-44c6-bedb-3f1d3e0eb664",
   "metadata": {},
   "source": [
    "##### Se puede apreciar en la Fig. 3, en el caso de la aerolinea AS (Alaska Airlines) cómo los retrasos se dan particularmente en tres meses; esto se debe a que esta compañía solo realiza vuelos a Alaska. El caso de OO (SkyWest Airlines) y FL (AirTran Airways) parecieran ser más generalizados. Luego, HA y 9E (Hawaiian Airlines y Endeavor Air, respectivamente) muestran retrasos importantes en determinados meses del año, F9 (Frontier Airlines) pareciera concentrar sus retrasos en las partidas en dos meses. Ayudaría realizar un estudio sobre estas aerolíneas concentrado en los aeropuertos, el cual no se realiza por la extensión del informe."
   ]
  }
 ],
 "metadata": {
  "kernelspec": {
   "display_name": "R",
   "language": "R",
   "name": "ir"
  },
  "language_info": {
   "codemirror_mode": "r",
   "file_extension": ".r",
   "mimetype": "text/x-r-source",
   "name": "R",
   "pygments_lexer": "r",
   "version": "3.6.1"
  }
 },
 "nbformat": 4,
 "nbformat_minor": 5
}
