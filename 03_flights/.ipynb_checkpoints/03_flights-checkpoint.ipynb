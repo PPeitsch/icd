{
 "cells": [
  {
   "cell_type": "code",
   "execution_count": 1,
   "id": "045ace57-d2f9-4ae2-b42b-2b0c2aa8d471",
   "metadata": {},
   "outputs": [
    {
     "name": "stdout",
     "output_type": "stream",
     "text": [
      "package 'nycflights13' successfully unpacked and MD5 sums checked\n",
      "\n",
      "The downloaded binary packages are in\n",
      "\tC:\\Users\\Pablo\\AppData\\Local\\Temp\\RtmpstO5Lm\\downloaded_packages\n"
     ]
    }
   ],
   "source": [
    "install.packages('nycflights13')"
   ]
  },
  {
   "cell_type": "code",
   "execution_count": 2,
   "id": "569344f9-241f-4903-a8a6-d201502ea87b",
   "metadata": {},
   "outputs": [
    {
     "name": "stderr",
     "output_type": "stream",
     "text": [
      "-- \u001b[1mAttaching packages\u001b[22m --------------------------------------- tidyverse 1.3.2 --\n",
      "\u001b[32mv\u001b[39m \u001b[34mggplot2\u001b[39m 3.3.6     \u001b[32mv\u001b[39m \u001b[34mpurrr  \u001b[39m 0.3.4\n",
      "\u001b[32mv\u001b[39m \u001b[34mtibble \u001b[39m 3.1.8     \u001b[32mv\u001b[39m \u001b[34mdplyr  \u001b[39m 1.0.9\n",
      "\u001b[32mv\u001b[39m \u001b[34mtidyr  \u001b[39m 1.2.0     \u001b[32mv\u001b[39m \u001b[34mstringr\u001b[39m 1.4.1\n",
      "\u001b[32mv\u001b[39m \u001b[34mreadr  \u001b[39m 2.1.2     \u001b[32mv\u001b[39m \u001b[34mforcats\u001b[39m 0.5.2\n",
      "-- \u001b[1mConflicts\u001b[22m ------------------------------------------ tidyverse_conflicts() --\n",
      "\u001b[31mx\u001b[39m \u001b[34mdplyr\u001b[39m::\u001b[32mfilter()\u001b[39m masks \u001b[34mstats\u001b[39m::filter()\n",
      "\u001b[31mx\u001b[39m \u001b[34mdplyr\u001b[39m::\u001b[32mlag()\u001b[39m    masks \u001b[34mstats\u001b[39m::lag()\n"
     ]
    }
   ],
   "source": [
    "library(tidyverse)\n",
    "library(nycflights13)\n",
    "\n"
   ]
  },
  {
   "cell_type": "code",
   "execution_count": 11,
   "id": "7cbcfbf7-ce7d-48db-a25a-70f8cbf2313c",
   "metadata": {},
   "outputs": [
    {
     "data": {
      "text/html": [
       "<table class=\"dataframe\">\n",
       "<caption>A tibble: 5 × 19</caption>\n",
       "<thead>\n",
       "\t<tr><th scope=col>year</th><th scope=col>month</th><th scope=col>day</th><th scope=col>dep_time</th><th scope=col>sched_dep_time</th><th scope=col>dep_delay</th><th scope=col>arr_time</th><th scope=col>sched_arr_time</th><th scope=col>arr_delay</th><th scope=col>carrier</th><th scope=col>flight</th><th scope=col>tailnum</th><th scope=col>origin</th><th scope=col>dest</th><th scope=col>air_time</th><th scope=col>distance</th><th scope=col>hour</th><th scope=col>minute</th><th scope=col>time_hour</th></tr>\n",
       "\t<tr><th scope=col>&lt;int&gt;</th><th scope=col>&lt;int&gt;</th><th scope=col>&lt;int&gt;</th><th scope=col>&lt;int&gt;</th><th scope=col>&lt;int&gt;</th><th scope=col>&lt;dbl&gt;</th><th scope=col>&lt;int&gt;</th><th scope=col>&lt;int&gt;</th><th scope=col>&lt;dbl&gt;</th><th scope=col>&lt;chr&gt;</th><th scope=col>&lt;int&gt;</th><th scope=col>&lt;chr&gt;</th><th scope=col>&lt;chr&gt;</th><th scope=col>&lt;chr&gt;</th><th scope=col>&lt;dbl&gt;</th><th scope=col>&lt;dbl&gt;</th><th scope=col>&lt;dbl&gt;</th><th scope=col>&lt;dbl&gt;</th><th scope=col>&lt;dttm&gt;</th></tr>\n",
       "</thead>\n",
       "<tbody>\n",
       "\t<tr><td>2013</td><td>1</td><td>1</td><td>517</td><td>515</td><td> 2</td><td> 830</td><td> 819</td><td> 11</td><td>UA</td><td>1545</td><td>N14228</td><td>EWR</td><td>IAH</td><td>227</td><td>1400</td><td>5</td><td>15</td><td>2013-01-01 05:00:00</td></tr>\n",
       "\t<tr><td>2013</td><td>1</td><td>1</td><td>533</td><td>529</td><td> 4</td><td> 850</td><td> 830</td><td> 20</td><td>UA</td><td>1714</td><td>N24211</td><td>LGA</td><td>IAH</td><td>227</td><td>1416</td><td>5</td><td>29</td><td>2013-01-01 05:00:00</td></tr>\n",
       "\t<tr><td>2013</td><td>1</td><td>1</td><td>542</td><td>540</td><td> 2</td><td> 923</td><td> 850</td><td> 33</td><td>AA</td><td>1141</td><td>N619AA</td><td>JFK</td><td>MIA</td><td>160</td><td>1089</td><td>5</td><td>40</td><td>2013-01-01 05:00:00</td></tr>\n",
       "\t<tr><td>2013</td><td>1</td><td>1</td><td>544</td><td>545</td><td>-1</td><td>1004</td><td>1022</td><td>-18</td><td>B6</td><td> 725</td><td>N804JB</td><td>JFK</td><td>BQN</td><td>183</td><td>1576</td><td>5</td><td>45</td><td>2013-01-01 05:00:00</td></tr>\n",
       "\t<tr><td>2013</td><td>1</td><td>1</td><td>554</td><td>600</td><td>-6</td><td> 812</td><td> 837</td><td>-25</td><td>DL</td><td> 461</td><td>N668DN</td><td>LGA</td><td>ATL</td><td>116</td><td> 762</td><td>6</td><td> 0</td><td>2013-01-01 06:00:00</td></tr>\n",
       "</tbody>\n",
       "</table>\n"
      ],
      "text/latex": [
       "A tibble: 5 × 19\n",
       "\\begin{tabular}{lllllllllllllllllll}\n",
       " year & month & day & dep\\_time & sched\\_dep\\_time & dep\\_delay & arr\\_time & sched\\_arr\\_time & arr\\_delay & carrier & flight & tailnum & origin & dest & air\\_time & distance & hour & minute & time\\_hour\\\\\n",
       " <int> & <int> & <int> & <int> & <int> & <dbl> & <int> & <int> & <dbl> & <chr> & <int> & <chr> & <chr> & <chr> & <dbl> & <dbl> & <dbl> & <dbl> & <dttm>\\\\\n",
       "\\hline\n",
       "\t 2013 & 1 & 1 & 517 & 515 &  2 &  830 &  819 &  11 & UA & 1545 & N14228 & EWR & IAH & 227 & 1400 & 5 & 15 & 2013-01-01 05:00:00\\\\\n",
       "\t 2013 & 1 & 1 & 533 & 529 &  4 &  850 &  830 &  20 & UA & 1714 & N24211 & LGA & IAH & 227 & 1416 & 5 & 29 & 2013-01-01 05:00:00\\\\\n",
       "\t 2013 & 1 & 1 & 542 & 540 &  2 &  923 &  850 &  33 & AA & 1141 & N619AA & JFK & MIA & 160 & 1089 & 5 & 40 & 2013-01-01 05:00:00\\\\\n",
       "\t 2013 & 1 & 1 & 544 & 545 & -1 & 1004 & 1022 & -18 & B6 &  725 & N804JB & JFK & BQN & 183 & 1576 & 5 & 45 & 2013-01-01 05:00:00\\\\\n",
       "\t 2013 & 1 & 1 & 554 & 600 & -6 &  812 &  837 & -25 & DL &  461 & N668DN & LGA & ATL & 116 &  762 & 6 &  0 & 2013-01-01 06:00:00\\\\\n",
       "\\end{tabular}\n"
      ],
      "text/markdown": [
       "\n",
       "A tibble: 5 × 19\n",
       "\n",
       "| year &lt;int&gt; | month &lt;int&gt; | day &lt;int&gt; | dep_time &lt;int&gt; | sched_dep_time &lt;int&gt; | dep_delay &lt;dbl&gt; | arr_time &lt;int&gt; | sched_arr_time &lt;int&gt; | arr_delay &lt;dbl&gt; | carrier &lt;chr&gt; | flight &lt;int&gt; | tailnum &lt;chr&gt; | origin &lt;chr&gt; | dest &lt;chr&gt; | air_time &lt;dbl&gt; | distance &lt;dbl&gt; | hour &lt;dbl&gt; | minute &lt;dbl&gt; | time_hour &lt;dttm&gt; |\n",
       "|---|---|---|---|---|---|---|---|---|---|---|---|---|---|---|---|---|---|---|\n",
       "| 2013 | 1 | 1 | 517 | 515 |  2 |  830 |  819 |  11 | UA | 1545 | N14228 | EWR | IAH | 227 | 1400 | 5 | 15 | 2013-01-01 05:00:00 |\n",
       "| 2013 | 1 | 1 | 533 | 529 |  4 |  850 |  830 |  20 | UA | 1714 | N24211 | LGA | IAH | 227 | 1416 | 5 | 29 | 2013-01-01 05:00:00 |\n",
       "| 2013 | 1 | 1 | 542 | 540 |  2 |  923 |  850 |  33 | AA | 1141 | N619AA | JFK | MIA | 160 | 1089 | 5 | 40 | 2013-01-01 05:00:00 |\n",
       "| 2013 | 1 | 1 | 544 | 545 | -1 | 1004 | 1022 | -18 | B6 |  725 | N804JB | JFK | BQN | 183 | 1576 | 5 | 45 | 2013-01-01 05:00:00 |\n",
       "| 2013 | 1 | 1 | 554 | 600 | -6 |  812 |  837 | -25 | DL |  461 | N668DN | LGA | ATL | 116 |  762 | 6 |  0 | 2013-01-01 06:00:00 |\n",
       "\n"
      ],
      "text/plain": [
       "  year month day dep_time sched_dep_time dep_delay arr_time sched_arr_time\n",
       "1 2013 1     1   517      515             2         830      819          \n",
       "2 2013 1     1   533      529             4         850      830          \n",
       "3 2013 1     1   542      540             2         923      850          \n",
       "4 2013 1     1   544      545            -1        1004     1022          \n",
       "5 2013 1     1   554      600            -6         812      837          \n",
       "  arr_delay carrier flight tailnum origin dest air_time distance hour minute\n",
       "1  11       UA      1545   N14228  EWR    IAH  227      1400     5    15    \n",
       "2  20       UA      1714   N24211  LGA    IAH  227      1416     5    29    \n",
       "3  33       AA      1141   N619AA  JFK    MIA  160      1089     5    40    \n",
       "4 -18       B6       725   N804JB  JFK    BQN  183      1576     5    45    \n",
       "5 -25       DL       461   N668DN  LGA    ATL  116       762     6     0    \n",
       "  time_hour          \n",
       "1 2013-01-01 05:00:00\n",
       "2 2013-01-01 05:00:00\n",
       "3 2013-01-01 05:00:00\n",
       "4 2013-01-01 05:00:00\n",
       "5 2013-01-01 06:00:00"
      ]
     },
     "metadata": {},
     "output_type": "display_data"
    }
   ],
   "source": [
    "head(flights, 5)"
   ]
  },
  {
   "cell_type": "code",
   "execution_count": 94,
   "id": "47550daa-5b4c-459f-b8a3-b75b484789b5",
   "metadata": {},
   "outputs": [],
   "source": [
    "month_group <- group_by(flights, month, .add=\"FALSE\")\n",
    "#month_group <- month_group[is.finite(rowSums(month_group)),]"
   ]
  },
  {
   "cell_type": "code",
   "execution_count": 95,
   "id": "548fff6d-a48a-4ab3-8af0-0608843aca70",
   "metadata": {},
   "outputs": [],
   "source": [
    "flights_grouped <- summarise(flights, .groups=\"month\", month, dep_delay, arr_delay, air_time)\n",
    "flights_grouped <- flights_grouped[is.finite(rowSums(flights_grouped)),]"
   ]
  },
  {
   "cell_type": "code",
   "execution_count": 96,
   "id": "955f69c9-ed44-41a4-90a9-ad5cd15d173f",
   "metadata": {},
   "outputs": [
    {
     "name": "stderr",
     "output_type": "stream",
     "text": [
      "\u001b[1m\u001b[22m`summarise()` has grouped output by 'month'. You can override using the\n",
      "`.groups` argument.\n"
     ]
    }
   ],
   "source": [
    "flights_grouped <- summarise(month_group, month, dep_delay, arr_delay, air_time)\n",
    "flights_grouped <- flights_grouped[is.finite(rowSums(flights_grouped)),]"
   ]
  },
  {
   "cell_type": "code",
   "execution_count": 97,
   "id": "fb086cdc-06f9-4565-87f8-12a7c0da6d61",
   "metadata": {},
   "outputs": [
    {
     "data": {
      "image/png": "[encoded data removed]",
      "text/plain": [
       "plot without title"
      ]
     },
     "metadata": {
      "image/png": {
       "height": 720,
       "width": 960
      }
     },
     "output_type": "display_data"
    }
   ],
   "source": [
    "# Cambia tamaño del plot\n",
    "options(repr.plot.width=16, repr.plot.height=12)\n",
    "\n",
    "ggplot(data=flights_grouped, aes(x=dep_delay, y=month, group=month)) +\n",
    "    # Laterales\n",
    "    stat_boxplot(geom = \"errorbar\", width = 0.3) +\n",
    "    # Colores y forma del boxplot\n",
    "    geom_boxplot(fill = \"orange\", colour = \"orange\", alpha = 0.2,\n",
    "                 # Color y forma outliers\n",
    "                 outlier.colour = \"red\", outlier.fill=\"red\", outlier.size=3,\n",
    "                 # Borde centro de las cajas\n",
    "                 notch=TRUE, notchwidth = 0.8) +\n",
    "\n",
    "    # Etiqueta de la variable discreta\n",
    "    scale_y_discrete(name = \"Month / 2013\", labels=flights_grouped$month) +\n",
    "    # Etiqueta de la variable continua\n",
    "    scale_x_continuous(name = \"Departure dealy\") +\n",
    "    # Título\n",
    "    ggtitle(\"Boxplot: flights delays distribution per month\") +\n",
    "    # Personalización del tema\n",
    "    theme(axis.line = element_line(colour = \"black\", size = 0.5))\n",
    "    # Formato de texto"
   ]
  },
  {
   "cell_type": "code",
   "execution_count": 98,
   "id": "6a479dca-a5d6-4afb-a2c6-5385997bada2",
   "metadata": {},
   "outputs": [
    {
     "data": {
      "text/html": [
       "<style>\n",
       ".list-inline {list-style: none; margin:0; padding: 0}\n",
       ".list-inline>li {display: inline-block}\n",
       ".list-inline>li:not(:last-child)::after {content: \"\\00b7\"; padding: 0 .5ex}\n",
       "</style>\n",
       "<ol class=list-inline><li>'Jan'</li><li>'Feb'</li><li>'Mar'</li><li>'Apr'</li><li>'May'</li><li>'Jun'</li><li>'Jul'</li><li>'Aug'</li><li>'Sep'</li><li>'Oct'</li><li>'Nov'</li><li>'Dec'</li></ol>\n"
      ],
      "text/latex": [
       "\\begin{enumerate*}\n",
       "\\item 'Jan'\n",
       "\\item 'Feb'\n",
       "\\item 'Mar'\n",
       "\\item 'Apr'\n",
       "\\item 'May'\n",
       "\\item 'Jun'\n",
       "\\item 'Jul'\n",
       "\\item 'Aug'\n",
       "\\item 'Sep'\n",
       "\\item 'Oct'\n",
       "\\item 'Nov'\n",
       "\\item 'Dec'\n",
       "\\end{enumerate*}\n"
      ],
      "text/markdown": [
       "1. 'Jan'\n",
       "2. 'Feb'\n",
       "3. 'Mar'\n",
       "4. 'Apr'\n",
       "5. 'May'\n",
       "6. 'Jun'\n",
       "7. 'Jul'\n",
       "8. 'Aug'\n",
       "9. 'Sep'\n",
       "10. 'Oct'\n",
       "11. 'Nov'\n",
       "12. 'Dec'\n",
       "\n",
       "\n"
      ],
      "text/plain": [
       " [1] \"Jan\" \"Feb\" \"Mar\" \"Apr\" \"May\" \"Jun\" \"Jul\" \"Aug\" \"Sep\" \"Oct\" \"Nov\" \"Dec\""
      ]
     },
     "metadata": {},
     "output_type": "display_data"
    }
   ],
   "source": [
    "lab_ = unique(month.abb[sort(flights_grouped$month)])\n",
    "lab_"
   ]
  },
  {
   "cell_type": "code",
   "execution_count": 102,
   "id": "67f2e972-ed41-4736-a09f-361c05d00e83",
   "metadata": {},
   "outputs": [
    {
     "data": {
      "text/html": [
       "<table class=\"dataframe\">\n",
       "<caption>A grouped_df: 327346 × 4</caption>\n",
       "<thead>\n",
       "\t<tr><th scope=col>month</th><th scope=col>dep_delay</th><th scope=col>arr_delay</th><th scope=col>air_time</th></tr>\n",
       "\t<tr><th scope=col>&lt;int&gt;</th><th scope=col>&lt;dbl&gt;</th><th scope=col>&lt;dbl&gt;</th><th scope=col>&lt;dbl&gt;</th></tr>\n",
       "</thead>\n",
       "<tbody>\n",
       "\t<tr><td>1</td><td> 2</td><td> 11</td><td>227</td></tr>\n",
       "\t<tr><td>1</td><td> 4</td><td> 20</td><td>227</td></tr>\n",
       "\t<tr><td>1</td><td> 2</td><td> 33</td><td>160</td></tr>\n",
       "\t<tr><td>1</td><td>-1</td><td>-18</td><td>183</td></tr>\n",
       "\t<tr><td>1</td><td>-6</td><td>-25</td><td>116</td></tr>\n",
       "\t<tr><td>1</td><td>-4</td><td> 12</td><td>150</td></tr>\n",
       "\t<tr><td>1</td><td>-5</td><td> 19</td><td>158</td></tr>\n",
       "\t<tr><td>1</td><td>-3</td><td>-14</td><td> 53</td></tr>\n",
       "\t<tr><td>1</td><td>-3</td><td> -8</td><td>140</td></tr>\n",
       "\t<tr><td>1</td><td>-2</td><td>  8</td><td>138</td></tr>\n",
       "\t<tr><td>1</td><td>-2</td><td> -2</td><td>149</td></tr>\n",
       "\t<tr><td>1</td><td>-2</td><td> -3</td><td>158</td></tr>\n",
       "\t<tr><td>1</td><td>-2</td><td>  7</td><td>345</td></tr>\n",
       "\t<tr><td>1</td><td>-2</td><td>-14</td><td>361</td></tr>\n",
       "\t<tr><td>1</td><td>-1</td><td> 31</td><td>257</td></tr>\n",
       "\t<tr><td>1</td><td> 0</td><td> -4</td><td> 44</td></tr>\n",
       "\t<tr><td>1</td><td>-1</td><td> -8</td><td>337</td></tr>\n",
       "\t<tr><td>1</td><td> 0</td><td> -7</td><td>152</td></tr>\n",
       "\t<tr><td>1</td><td> 0</td><td> 12</td><td>134</td></tr>\n",
       "\t<tr><td>1</td><td> 1</td><td> -6</td><td>147</td></tr>\n",
       "\t<tr><td>1</td><td>-8</td><td> -8</td><td>170</td></tr>\n",
       "\t<tr><td>1</td><td>-3</td><td> 16</td><td>105</td></tr>\n",
       "\t<tr><td>1</td><td>-4</td><td>-12</td><td>152</td></tr>\n",
       "\t<tr><td>1</td><td>-4</td><td> -8</td><td>128</td></tr>\n",
       "\t<tr><td>1</td><td> 0</td><td>-17</td><td>157</td></tr>\n",
       "\t<tr><td>1</td><td> 8</td><td> 32</td><td>139</td></tr>\n",
       "\t<tr><td>1</td><td>11</td><td> 14</td><td>366</td></tr>\n",
       "\t<tr><td>1</td><td> 3</td><td>  4</td><td>175</td></tr>\n",
       "\t<tr><td>1</td><td> 0</td><td>-21</td><td>182</td></tr>\n",
       "\t<tr><td>1</td><td> 0</td><td> -9</td><td>120</td></tr>\n",
       "\t<tr><td>⋮</td><td>⋮</td><td>⋮</td><td>⋮</td></tr>\n",
       "\t<tr><td>12</td><td> -7</td><td>  3</td><td>160</td></tr>\n",
       "\t<tr><td>12</td><td> -6</td><td>-31</td><td>158</td></tr>\n",
       "\t<tr><td>12</td><td> 49</td><td> 40</td><td> 38</td></tr>\n",
       "\t<tr><td>12</td><td> 25</td><td>  3</td><td>193</td></tr>\n",
       "\t<tr><td>12</td><td> 31</td><td> 35</td><td>235</td></tr>\n",
       "\t<tr><td>12</td><td> 31</td><td>  7</td><td>142</td></tr>\n",
       "\t<tr><td>12</td><td> -5</td><td> 20</td><td>249</td></tr>\n",
       "\t<tr><td>12</td><td> -9</td><td>-11</td><td>155</td></tr>\n",
       "\t<tr><td>12</td><td> -9</td><td> -8</td><td> 43</td></tr>\n",
       "\t<tr><td>12</td><td> -8</td><td>  3</td><td>138</td></tr>\n",
       "\t<tr><td>12</td><td> -7</td><td>  6</td><td>360</td></tr>\n",
       "\t<tr><td>12</td><td> 58</td><td> 90</td><td>120</td></tr>\n",
       "\t<tr><td>12</td><td>  2</td><td> 23</td><td>160</td></tr>\n",
       "\t<tr><td>12</td><td> -1</td><td>  2</td><td>320</td></tr>\n",
       "\t<tr><td>12</td><td> -3</td><td> 13</td><td>167</td></tr>\n",
       "\t<tr><td>12</td><td> -4</td><td> 10</td><td>144</td></tr>\n",
       "\t<tr><td>12</td><td> -3</td><td> -9</td><td> 74</td></tr>\n",
       "\t<tr><td>12</td><td>  5</td><td> 19</td><td>164</td></tr>\n",
       "\t<tr><td>12</td><td>  4</td><td>  9</td><td>155</td></tr>\n",
       "\t<tr><td>12</td><td> 56</td><td> 65</td><td>195</td></tr>\n",
       "\t<tr><td>12</td><td> 12</td><td> 15</td><td>148</td></tr>\n",
       "\t<tr><td>12</td><td> -1</td><td> 11</td><td>202</td></tr>\n",
       "\t<tr><td>12</td><td>-10</td><td> -4</td><td> 49</td></tr>\n",
       "\t<tr><td>12</td><td> -5</td><td>  3</td><td> 51</td></tr>\n",
       "\t<tr><td>12</td><td> 15</td><td> 11</td><td> 40</td></tr>\n",
       "\t<tr><td>12</td><td> 31</td><td> 38</td><td> 66</td></tr>\n",
       "\t<tr><td>12</td><td> -2</td><td>  3</td><td>198</td></tr>\n",
       "\t<tr><td>12</td><td> 47</td><td> 55</td><td> 60</td></tr>\n",
       "\t<tr><td>12</td><td> -4</td><td>-10</td><td>195</td></tr>\n",
       "\t<tr><td>12</td><td> -3</td><td> -9</td><td>200</td></tr>\n",
       "</tbody>\n",
       "</table>\n"
      ],
      "text/latex": [
       "A grouped\\_df: 327346 × 4\n",
       "\\begin{tabular}{llll}\n",
       " month & dep\\_delay & arr\\_delay & air\\_time\\\\\n",
       " <int> & <dbl> & <dbl> & <dbl>\\\\\n",
       "\\hline\n",
       "\t 1 &  2 &  11 & 227\\\\\n",
       "\t 1 &  4 &  20 & 227\\\\\n",
       "\t 1 &  2 &  33 & 160\\\\\n",
       "\t 1 & -1 & -18 & 183\\\\\n",
       "\t 1 & -6 & -25 & 116\\\\\n",
       "\t 1 & -4 &  12 & 150\\\\\n",
       "\t 1 & -5 &  19 & 158\\\\\n",
       "\t 1 & -3 & -14 &  53\\\\\n",
       "\t 1 & -3 &  -8 & 140\\\\\n",
       "\t 1 & -2 &   8 & 138\\\\\n",
       "\t 1 & -2 &  -2 & 149\\\\\n",
       "\t 1 & -2 &  -3 & 158\\\\\n",
       "\t 1 & -2 &   7 & 345\\\\\n",
       "\t 1 & -2 & -14 & 361\\\\\n",
       "\t 1 & -1 &  31 & 257\\\\\n",
       "\t 1 &  0 &  -4 &  44\\\\\n",
       "\t 1 & -1 &  -8 & 337\\\\\n",
       "\t 1 &  0 &  -7 & 152\\\\\n",
       "\t 1 &  0 &  12 & 134\\\\\n",
       "\t 1 &  1 &  -6 & 147\\\\\n",
       "\t 1 & -8 &  -8 & 170\\\\\n",
       "\t 1 & -3 &  16 & 105\\\\\n",
       "\t 1 & -4 & -12 & 152\\\\\n",
       "\t 1 & -4 &  -8 & 128\\\\\n",
       "\t 1 &  0 & -17 & 157\\\\\n",
       "\t 1 &  8 &  32 & 139\\\\\n",
       "\t 1 & 11 &  14 & 366\\\\\n",
       "\t 1 &  3 &   4 & 175\\\\\n",
       "\t 1 &  0 & -21 & 182\\\\\n",
       "\t 1 &  0 &  -9 & 120\\\\\n",
       "\t ⋮ & ⋮ & ⋮ & ⋮\\\\\n",
       "\t 12 &  -7 &   3 & 160\\\\\n",
       "\t 12 &  -6 & -31 & 158\\\\\n",
       "\t 12 &  49 &  40 &  38\\\\\n",
       "\t 12 &  25 &   3 & 193\\\\\n",
       "\t 12 &  31 &  35 & 235\\\\\n",
       "\t 12 &  31 &   7 & 142\\\\\n",
       "\t 12 &  -5 &  20 & 249\\\\\n",
       "\t 12 &  -9 & -11 & 155\\\\\n",
       "\t 12 &  -9 &  -8 &  43\\\\\n",
       "\t 12 &  -8 &   3 & 138\\\\\n",
       "\t 12 &  -7 &   6 & 360\\\\\n",
       "\t 12 &  58 &  90 & 120\\\\\n",
       "\t 12 &   2 &  23 & 160\\\\\n",
       "\t 12 &  -1 &   2 & 320\\\\\n",
       "\t 12 &  -3 &  13 & 167\\\\\n",
       "\t 12 &  -4 &  10 & 144\\\\\n",
       "\t 12 &  -3 &  -9 &  74\\\\\n",
       "\t 12 &   5 &  19 & 164\\\\\n",
       "\t 12 &   4 &   9 & 155\\\\\n",
       "\t 12 &  56 &  65 & 195\\\\\n",
       "\t 12 &  12 &  15 & 148\\\\\n",
       "\t 12 &  -1 &  11 & 202\\\\\n",
       "\t 12 & -10 &  -4 &  49\\\\\n",
       "\t 12 &  -5 &   3 &  51\\\\\n",
       "\t 12 &  15 &  11 &  40\\\\\n",
       "\t 12 &  31 &  38 &  66\\\\\n",
       "\t 12 &  -2 &   3 & 198\\\\\n",
       "\t 12 &  47 &  55 &  60\\\\\n",
       "\t 12 &  -4 & -10 & 195\\\\\n",
       "\t 12 &  -3 &  -9 & 200\\\\\n",
       "\\end{tabular}\n"
      ],
      "text/markdown": [
       "\n",
       "A grouped_df: 327346 × 4\n",
       "\n",
       "| month &lt;int&gt; | dep_delay &lt;dbl&gt; | arr_delay &lt;dbl&gt; | air_time &lt;dbl&gt; |\n",
       "|---|---|---|---|\n",
       "| 1 |  2 |  11 | 227 |\n",
       "| 1 |  4 |  20 | 227 |\n",
       "| 1 |  2 |  33 | 160 |\n",
       "| 1 | -1 | -18 | 183 |\n",
       "| 1 | -6 | -25 | 116 |\n",
       "| 1 | -4 |  12 | 150 |\n",
       "| 1 | -5 |  19 | 158 |\n",
       "| 1 | -3 | -14 |  53 |\n",
       "| 1 | -3 |  -8 | 140 |\n",
       "| 1 | -2 |   8 | 138 |\n",
       "| 1 | -2 |  -2 | 149 |\n",
       "| 1 | -2 |  -3 | 158 |\n",
       "| 1 | -2 |   7 | 345 |\n",
       "| 1 | -2 | -14 | 361 |\n",
       "| 1 | -1 |  31 | 257 |\n",
       "| 1 |  0 |  -4 |  44 |\n",
       "| 1 | -1 |  -8 | 337 |\n",
       "| 1 |  0 |  -7 | 152 |\n",
       "| 1 |  0 |  12 | 134 |\n",
       "| 1 |  1 |  -6 | 147 |\n",
       "| 1 | -8 |  -8 | 170 |\n",
       "| 1 | -3 |  16 | 105 |\n",
       "| 1 | -4 | -12 | 152 |\n",
       "| 1 | -4 |  -8 | 128 |\n",
       "| 1 |  0 | -17 | 157 |\n",
       "| 1 |  8 |  32 | 139 |\n",
       "| 1 | 11 |  14 | 366 |\n",
       "| 1 |  3 |   4 | 175 |\n",
       "| 1 |  0 | -21 | 182 |\n",
       "| 1 |  0 |  -9 | 120 |\n",
       "| ⋮ | ⋮ | ⋮ | ⋮ |\n",
       "| 12 |  -7 |   3 | 160 |\n",
       "| 12 |  -6 | -31 | 158 |\n",
       "| 12 |  49 |  40 |  38 |\n",
       "| 12 |  25 |   3 | 193 |\n",
       "| 12 |  31 |  35 | 235 |\n",
       "| 12 |  31 |   7 | 142 |\n",
       "| 12 |  -5 |  20 | 249 |\n",
       "| 12 |  -9 | -11 | 155 |\n",
       "| 12 |  -9 |  -8 |  43 |\n",
       "| 12 |  -8 |   3 | 138 |\n",
       "| 12 |  -7 |   6 | 360 |\n",
       "| 12 |  58 |  90 | 120 |\n",
       "| 12 |   2 |  23 | 160 |\n",
       "| 12 |  -1 |   2 | 320 |\n",
       "| 12 |  -3 |  13 | 167 |\n",
       "| 12 |  -4 |  10 | 144 |\n",
       "| 12 |  -3 |  -9 |  74 |\n",
       "| 12 |   5 |  19 | 164 |\n",
       "| 12 |   4 |   9 | 155 |\n",
       "| 12 |  56 |  65 | 195 |\n",
       "| 12 |  12 |  15 | 148 |\n",
       "| 12 |  -1 |  11 | 202 |\n",
       "| 12 | -10 |  -4 |  49 |\n",
       "| 12 |  -5 |   3 |  51 |\n",
       "| 12 |  15 |  11 |  40 |\n",
       "| 12 |  31 |  38 |  66 |\n",
       "| 12 |  -2 |   3 | 198 |\n",
       "| 12 |  47 |  55 |  60 |\n",
       "| 12 |  -4 | -10 | 195 |\n",
       "| 12 |  -3 |  -9 | 200 |\n",
       "\n"
      ],
      "text/plain": [
       "       month dep_delay arr_delay air_time\n",
       "1      1      2         11       227     \n",
       "2      1      4         20       227     \n",
       "3      1      2         33       160     \n",
       "4      1     -1        -18       183     \n",
       "5      1     -6        -25       116     \n",
       "6      1     -4         12       150     \n",
       "7      1     -5         19       158     \n",
       "8      1     -3        -14        53     \n",
       "9      1     -3         -8       140     \n",
       "10     1     -2          8       138     \n",
       "11     1     -2         -2       149     \n",
       "12     1     -2         -3       158     \n",
       "13     1     -2          7       345     \n",
       "14     1     -2        -14       361     \n",
       "15     1     -1         31       257     \n",
       "16     1      0         -4        44     \n",
       "17     1     -1         -8       337     \n",
       "18     1      0         -7       152     \n",
       "19     1      0         12       134     \n",
       "20     1      1         -6       147     \n",
       "21     1     -8         -8       170     \n",
       "22     1     -3         16       105     \n",
       "23     1     -4        -12       152     \n",
       "24     1     -4         -8       128     \n",
       "25     1      0        -17       157     \n",
       "26     1      8         32       139     \n",
       "27     1     11         14       366     \n",
       "28     1      3          4       175     \n",
       "29     1      0        -21       182     \n",
       "30     1      0         -9       120     \n",
       "<U+22EE>      <U+22EE> <U+22EE>  <U+22EE>  <U+22EE>\n",
       "327317 12     -7         3       160     \n",
       "327318 12     -6       -31       158     \n",
       "327319 12     49        40        38     \n",
       "327320 12     25         3       193     \n",
       "327321 12     31        35       235     \n",
       "327322 12     31         7       142     \n",
       "327323 12     -5        20       249     \n",
       "327324 12     -9       -11       155     \n",
       "327325 12     -9        -8        43     \n",
       "327326 12     -8         3       138     \n",
       "327327 12     -7         6       360     \n",
       "327328 12     58        90       120     \n",
       "327329 12      2        23       160     \n",
       "327330 12     -1         2       320     \n",
       "327331 12     -3        13       167     \n",
       "327332 12     -4        10       144     \n",
       "327333 12     -3        -9        74     \n",
       "327334 12      5        19       164     \n",
       "327335 12      4         9       155     \n",
       "327336 12     56        65       195     \n",
       "327337 12     12        15       148     \n",
       "327338 12     -1        11       202     \n",
       "327339 12    -10        -4        49     \n",
       "327340 12     -5         3        51     \n",
       "327341 12     15        11        40     \n",
       "327342 12     31        38        66     \n",
       "327343 12     -2         3       198     \n",
       "327344 12     47        55        60     \n",
       "327345 12     -4       -10       195     \n",
       "327346 12     -3        -9       200     "
      ]
     },
     "metadata": {},
     "output_type": "display_data"
    }
   ],
   "source": [
    "flights_grouped"
   ]
  },
  {
   "cell_type": "code",
   "execution_count": null,
   "id": "9ba63d7f-2242-4d9d-8210-43db709e838f",
   "metadata": {},
   "outputs": [
    {
     "name": "stderr",
     "output_type": "stream",
     "text": [
      "ERROR while rich displaying an object: \u001b[1m\u001b[33mError\u001b[39m in \u001b[1m\u001b[1m`check_aesthetics()`:\u001b[22m\n",
      "\u001b[33m!\u001b[39m Aesthetics must be either length 1 or the same as the data (6144): colour\n",
      "\n",
      "Traceback:\n",
      "1. tryCatch(withCallingHandlers({\n",
      " .     if (!mime %in% names(repr::mime2repr)) \n",
      " .         stop(\"No repr_* for mimetype \", mime, \" in repr::mime2repr\")\n",
      " .     rpr <- repr::mime2repr[[mime]](obj)\n",
      " .     if (is.null(rpr)) \n",
      " .         return(NULL)\n",
      " .     prepare_content(is.raw(rpr), rpr)\n",
      " . }, error = error_handler), error = outer_handler)\n",
      "2. tryCatchList(expr, classes, parentenv, handlers)\n",
      "3. tryCatchOne(expr, names, parentenv, handlers[[1L]])\n",
      "4. doTryCatch(return(expr), name, parentenv, handler)\n",
      "5. withCallingHandlers({\n",
      " .     if (!mime %in% names(repr::mime2repr)) \n",
      " .         stop(\"No repr_* for mimetype \", mime, \" in repr::mime2repr\")\n",
      " .     rpr <- repr::mime2repr[[mime]](obj)\n",
      " .     if (is.null(rpr)) \n",
      " .         return(NULL)\n",
      " .     prepare_content(is.raw(rpr), rpr)\n",
      " . }, error = error_handler)\n",
      "6. repr::mime2repr[[mime]](obj)\n",
      "7. repr_text.default(obj)\n",
      "8. paste(capture.output(print(obj)), collapse = \"\\n\")\n",
      "9. capture.output(print(obj))\n",
      "10. withVisible(...elt(i))\n",
      "11. print(obj)\n",
      "12. print.ggplot(obj)\n",
      "13. ggplot_build(x)\n",
      "14. ggplot_build.ggplot(x)\n",
      "15. by_layer(function(l, d) l$compute_geom_2(d))\n",
      "16. f(l = layers[[i]], d = data[[i]])\n",
      "17. l$compute_geom_2(d)\n",
      "18. f(..., self = self)\n",
      "19. self$geom$use_defaults(data, self$aes_params, modifiers)\n",
      "20. f(..., self = self)\n",
      "21. check_aesthetics(params[aes_params], nrow(data))\n",
      "22. abort(glue(\"Aesthetics must be either length 1 or the same as the data ({n}): \", \n",
      "  .     glue_collapse(names(which(!good)), \", \", last = \" and \")))\n",
      "23. signal_abort(cnd, .file)\n"
     ]
    }
   ],
   "source": [
    "# Cambia tamaño del plot\n",
    "options(repr.plot.width=16, repr.plot.height=12)\n",
    "\n",
    "ggplot(data=flights_grouped, aes(x=dep_delay, y=factor(flights_grouped$month))) +\n",
    "   # Colores y forma del boxplot\n",
    "    geom_violin(colour = \"blue\", alpha = 0.2, show.legend=\"TRUE\") +\n",
    "\n",
    "    # Etiqueta de la variable discreta\n",
    "    scale_y_discrete(name = \"Month / 2013\", labels=lab_) +\n",
    "    # Etiqueta de la variable continua\n",
    "    scale_x_continuous(name = \"Departure dealy\") +\n",
    "    # Título\n",
    "    ggtitle(\"Violin Plot: flights delays distribution per month\") +\n",
    "    # Personalización del tema\n",
    "    theme(axis.line = element_line(colour = \"black\", size = 0.5))\n",
    "    # Formato de texto"
   ]
  },
  {
   "cell_type": "code",
   "execution_count": 112,
   "id": "04fcd498-ec66-4cef-a64e-e834524b9738",
   "metadata": {},
   "outputs": [
    {
     "data": {
      "image/png": "[encoded data removed]",
      "text/plain": [
       "plot without title"
      ]
     },
     "metadata": {
      "image/png": {
       "height": 720,
       "width": 960
      }
     },
     "output_type": "display_data"
    }
   ],
   "source": [
    "ggplot(data=flights_grouped, aes(x=dep_delay, y=factor(flights_grouped$month))) +\n",
    "   # Colores y forma del boxplot\n",
    "    geom_violin(colour = \"blue\", alpha = 0.2, show.legend=\"TRUE\") +\n",
    "\n",
    "    # Etiqueta de la variable discreta\n",
    "    scale_y_discrete(name = \"Month / 2013\", labels=lab_) +\n",
    "    # Etiqueta de la variable continua\n",
    "    scale_x_continuous(name = \"Departure dealy\") +\n",
    "    # Título\n",
    "    ggtitle(\"Violin Plot: flights delays distribution per month\") +\n",
    "    # Personalización del tema\n",
    "    theme(axis.line = element_line(colour = \"black\", size = 0.5))\n",
    "    # Formato de texto"
   ]
  },
  {
   "cell_type": "code",
   "execution_count": 106,
   "id": "6b0a3319-c9d2-4159-bbb1-2bf54098b5e4",
   "metadata": {},
   "outputs": [
    {
     "data": {
      "text/html": [
       "327346"
      ],
      "text/latex": [
       "327346"
      ],
      "text/markdown": [
       "327346"
      ],
      "text/plain": [
       "[1] 327346"
      ]
     },
     "metadata": {},
     "output_type": "display_data"
    }
   ],
   "source": [
    "length(factor(flights_grouped$month))"
   ]
  },
  {
   "cell_type": "code",
   "execution_count": null,
   "id": "4f98fd50-770e-44af-a865-bae4b324dd4b",
   "metadata": {},
   "outputs": [],
   "source": []
  }
 ],
 "metadata": {
  "kernelspec": {
   "display_name": "R",
   "language": "R",
   "name": "ir"
  },
  "language_info": {
   "codemirror_mode": "r",
   "file_extension": ".r",
   "mimetype": "text/x-r-source",
   "name": "R",
   "pygments_lexer": "r",
   "version": "4.1.3"
  }
 },
 "nbformat": 4,
 "nbformat_minor": 5
}
