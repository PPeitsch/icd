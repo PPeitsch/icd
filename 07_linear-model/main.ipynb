{
 "cells": [
  {
   "cell_type": "code",
   "execution_count": 1,
   "id": "841b46fd-630f-469a-bf59-1df2dee18b33",
   "metadata": {},
   "outputs": [
    {
     "name": "stderr",
     "output_type": "stream",
     "text": [
      "── \u001b[1mAttaching packages\u001b[22m ─────────────────────────────────────── tidyverse 1.3.1 ──\n",
      "\n",
      "\u001b[32m✔\u001b[39m \u001b[34mggplot2\u001b[39m 3.3.6     \u001b[32m✔\u001b[39m \u001b[34mpurrr  \u001b[39m 0.3.4\n",
      "\u001b[32m✔\u001b[39m \u001b[34mtibble \u001b[39m 3.1.7     \u001b[32m✔\u001b[39m \u001b[34mdplyr  \u001b[39m 1.0.9\n",
      "\u001b[32m✔\u001b[39m \u001b[34mtidyr  \u001b[39m 1.2.0     \u001b[32m✔\u001b[39m \u001b[34mstringr\u001b[39m 1.4.0\n",
      "\u001b[32m✔\u001b[39m \u001b[34mreadr  \u001b[39m 2.1.2     \u001b[32m✔\u001b[39m \u001b[34mforcats\u001b[39m 0.5.1\n",
      "\n",
      "── \u001b[1mConflicts\u001b[22m ────────────────────────────────────────── tidyverse_conflicts() ──\n",
      "\u001b[31m✖\u001b[39m \u001b[34mdplyr\u001b[39m::\u001b[32mfilter()\u001b[39m masks \u001b[34mstats\u001b[39m::filter()\n",
      "\u001b[31m✖\u001b[39m \u001b[34mdplyr\u001b[39m::\u001b[32mlag()\u001b[39m    masks \u001b[34mstats\u001b[39m::lag()\n",
      "\n",
      "gdata: read.xls support for 'XLS' (Excel 97-2004) files ENABLED.\n",
      "\n",
      "\n",
      "\n",
      "gdata: read.xls support for 'XLSX' (Excel 2007+) files ENABLED.\n",
      "\n",
      "\n",
      "Attaching package: ‘gdata’\n",
      "\n",
      "\n",
      "The following objects are masked from ‘package:dplyr’:\n",
      "\n",
      "    combine, first, last\n",
      "\n",
      "\n",
      "The following object is masked from ‘package:purrr’:\n",
      "\n",
      "    keep\n",
      "\n",
      "\n",
      "The following object is masked from ‘package:stats’:\n",
      "\n",
      "    nobs\n",
      "\n",
      "\n",
      "The following object is masked from ‘package:utils’:\n",
      "\n",
      "    object.size\n",
      "\n",
      "\n",
      "The following object is masked from ‘package:base’:\n",
      "\n",
      "    startsWith\n",
      "\n",
      "\n"
     ]
    }
   ],
   "source": [
    "# Se importan las librerías necesarias\n",
    "library(tidyverse)\n",
    "library(ggridges)\n",
    "library(gdata)\n",
    "\n",
    "# Directorio de trabajo y nombre de archivo\n",
    "data_folder <- \"datasets\"\n",
    "file_name1 <- \"Summary of Weather.csv\"\n",
    "file_name2 <- \"Weather Station Locations.xls\"\n",
    "\n",
    "# Se importa el dataset\n",
    "weather_ww2 <- read.csv(file.path(data_folder, file_name1), dec=\",\")\n",
    "stations_ww2 <- read.csv(file.path(data_folder, file_name2), dec=\",\")\n",
    "#perl <- gdata:::findPerl(\"perl\")\n",
    "#stations_ww2 <- read.xls(file.path(data_folder, file_name2), sheet=1, verbose=FALSE, lank.lines.skip=TRUE, method=\"csv\", perl=perl)\n",
    "\n",
    "# Cambia tamaño del plot\n",
    "options(repr.plot.width=16, repr.plot.height=12)"
   ]
  },
  {
   "cell_type": "code",
   "execution_count": 2,
   "id": "5f215142-7fad-4567-9d1b-3cad7db3142d",
   "metadata": {},
   "outputs": [
    {
     "data": {
      "text/html": [
       "<table class=\"dataframe\">\n",
       "<caption>A data.frame: 5 × 31</caption>\n",
       "<thead>\n",
       "\t<tr><th></th><th scope=col>STA</th><th scope=col>Date</th><th scope=col>Precip</th><th scope=col>WindGustSpd</th><th scope=col>MaxTemp</th><th scope=col>MinTemp</th><th scope=col>MeanTemp</th><th scope=col>Snowfall</th><th scope=col>PoorWeather</th><th scope=col>YR</th><th scope=col>⋯</th><th scope=col>FB</th><th scope=col>FTI</th><th scope=col>ITH</th><th scope=col>PGT</th><th scope=col>TSHDSBRSGF</th><th scope=col>SD3</th><th scope=col>RHX</th><th scope=col>RHN</th><th scope=col>RVG</th><th scope=col>WTE</th></tr>\n",
       "\t<tr><th></th><th scope=col>&lt;int&gt;</th><th scope=col>&lt;chr&gt;</th><th scope=col>&lt;chr&gt;</th><th scope=col>&lt;chr&gt;</th><th scope=col>&lt;chr&gt;</th><th scope=col>&lt;chr&gt;</th><th scope=col>&lt;chr&gt;</th><th scope=col>&lt;chr&gt;</th><th scope=col>&lt;chr&gt;</th><th scope=col>&lt;int&gt;</th><th scope=col>⋯</th><th scope=col>&lt;lgl&gt;</th><th scope=col>&lt;lgl&gt;</th><th scope=col>&lt;lgl&gt;</th><th scope=col>&lt;chr&gt;</th><th scope=col>&lt;chr&gt;</th><th scope=col>&lt;lgl&gt;</th><th scope=col>&lt;lgl&gt;</th><th scope=col>&lt;lgl&gt;</th><th scope=col>&lt;lgl&gt;</th><th scope=col>&lt;lgl&gt;</th></tr>\n",
       "</thead>\n",
       "<tbody>\n",
       "\t<tr><th scope=row>1</th><td>10001</td><td>1942-7-1</td><td>1.016</td><td></td><td>25.55555556</td><td>22.22222222</td><td>23.88888889</td><td>0</td><td></td><td>42</td><td>⋯</td><td>NA</td><td>NA</td><td>NA</td><td></td><td></td><td>NA</td><td>NA</td><td>NA</td><td>NA</td><td>NA</td></tr>\n",
       "\t<tr><th scope=row>2</th><td>10001</td><td>1942-7-2</td><td>0    </td><td></td><td>28.88888889</td><td>21.66666667</td><td>25.55555556</td><td>0</td><td></td><td>42</td><td>⋯</td><td>NA</td><td>NA</td><td>NA</td><td></td><td></td><td>NA</td><td>NA</td><td>NA</td><td>NA</td><td>NA</td></tr>\n",
       "\t<tr><th scope=row>3</th><td>10001</td><td>1942-7-3</td><td>2.54 </td><td></td><td>26.11111111</td><td>22.22222222</td><td>24.44444444</td><td>0</td><td></td><td>42</td><td>⋯</td><td>NA</td><td>NA</td><td>NA</td><td></td><td></td><td>NA</td><td>NA</td><td>NA</td><td>NA</td><td>NA</td></tr>\n",
       "\t<tr><th scope=row>4</th><td>10001</td><td>1942-7-4</td><td>2.54 </td><td></td><td>26.66666667</td><td>22.22222222</td><td>24.44444444</td><td>0</td><td></td><td>42</td><td>⋯</td><td>NA</td><td>NA</td><td>NA</td><td></td><td></td><td>NA</td><td>NA</td><td>NA</td><td>NA</td><td>NA</td></tr>\n",
       "\t<tr><th scope=row>5</th><td>10001</td><td>1942-7-5</td><td>0    </td><td></td><td>26.66666667</td><td>21.66666667</td><td>24.44444444</td><td>0</td><td></td><td>42</td><td>⋯</td><td>NA</td><td>NA</td><td>NA</td><td></td><td></td><td>NA</td><td>NA</td><td>NA</td><td>NA</td><td>NA</td></tr>\n",
       "</tbody>\n",
       "</table>\n"
      ],
      "text/latex": [
       "A data.frame: 5 × 31\n",
       "\\begin{tabular}{r|lllllllllllllllllllll}\n",
       "  & STA & Date & Precip & WindGustSpd & MaxTemp & MinTemp & MeanTemp & Snowfall & PoorWeather & YR & ⋯ & FB & FTI & ITH & PGT & TSHDSBRSGF & SD3 & RHX & RHN & RVG & WTE\\\\\n",
       "  & <int> & <chr> & <chr> & <chr> & <chr> & <chr> & <chr> & <chr> & <chr> & <int> & ⋯ & <lgl> & <lgl> & <lgl> & <chr> & <chr> & <lgl> & <lgl> & <lgl> & <lgl> & <lgl>\\\\\n",
       "\\hline\n",
       "\t1 & 10001 & 1942-7-1 & 1.016 &  & 25.55555556 & 22.22222222 & 23.88888889 & 0 &  & 42 & ⋯ & NA & NA & NA &  &  & NA & NA & NA & NA & NA\\\\\n",
       "\t2 & 10001 & 1942-7-2 & 0     &  & 28.88888889 & 21.66666667 & 25.55555556 & 0 &  & 42 & ⋯ & NA & NA & NA &  &  & NA & NA & NA & NA & NA\\\\\n",
       "\t3 & 10001 & 1942-7-3 & 2.54  &  & 26.11111111 & 22.22222222 & 24.44444444 & 0 &  & 42 & ⋯ & NA & NA & NA &  &  & NA & NA & NA & NA & NA\\\\\n",
       "\t4 & 10001 & 1942-7-4 & 2.54  &  & 26.66666667 & 22.22222222 & 24.44444444 & 0 &  & 42 & ⋯ & NA & NA & NA &  &  & NA & NA & NA & NA & NA\\\\\n",
       "\t5 & 10001 & 1942-7-5 & 0     &  & 26.66666667 & 21.66666667 & 24.44444444 & 0 &  & 42 & ⋯ & NA & NA & NA &  &  & NA & NA & NA & NA & NA\\\\\n",
       "\\end{tabular}\n"
      ],
      "text/markdown": [
       "\n",
       "A data.frame: 5 × 31\n",
       "\n",
       "| <!--/--> | STA &lt;int&gt; | Date &lt;chr&gt; | Precip &lt;chr&gt; | WindGustSpd &lt;chr&gt; | MaxTemp &lt;chr&gt; | MinTemp &lt;chr&gt; | MeanTemp &lt;chr&gt; | Snowfall &lt;chr&gt; | PoorWeather &lt;chr&gt; | YR &lt;int&gt; | ⋯ ⋯ | FB &lt;lgl&gt; | FTI &lt;lgl&gt; | ITH &lt;lgl&gt; | PGT &lt;chr&gt; | TSHDSBRSGF &lt;chr&gt; | SD3 &lt;lgl&gt; | RHX &lt;lgl&gt; | RHN &lt;lgl&gt; | RVG &lt;lgl&gt; | WTE &lt;lgl&gt; |\n",
       "|---|---|---|---|---|---|---|---|---|---|---|---|---|---|---|---|---|---|---|---|---|---|\n",
       "| 1 | 10001 | 1942-7-1 | 1.016 | <!----> | 25.55555556 | 22.22222222 | 23.88888889 | 0 | <!----> | 42 | ⋯ | NA | NA | NA | <!----> | <!----> | NA | NA | NA | NA | NA |\n",
       "| 2 | 10001 | 1942-7-2 | 0     | <!----> | 28.88888889 | 21.66666667 | 25.55555556 | 0 | <!----> | 42 | ⋯ | NA | NA | NA | <!----> | <!----> | NA | NA | NA | NA | NA |\n",
       "| 3 | 10001 | 1942-7-3 | 2.54  | <!----> | 26.11111111 | 22.22222222 | 24.44444444 | 0 | <!----> | 42 | ⋯ | NA | NA | NA | <!----> | <!----> | NA | NA | NA | NA | NA |\n",
       "| 4 | 10001 | 1942-7-4 | 2.54  | <!----> | 26.66666667 | 22.22222222 | 24.44444444 | 0 | <!----> | 42 | ⋯ | NA | NA | NA | <!----> | <!----> | NA | NA | NA | NA | NA |\n",
       "| 5 | 10001 | 1942-7-5 | 0     | <!----> | 26.66666667 | 21.66666667 | 24.44444444 | 0 | <!----> | 42 | ⋯ | NA | NA | NA | <!----> | <!----> | NA | NA | NA | NA | NA |\n",
       "\n"
      ],
      "text/plain": [
       "  STA   Date     Precip WindGustSpd MaxTemp     MinTemp     MeanTemp   \n",
       "1 10001 1942-7-1 1.016              25.55555556 22.22222222 23.88888889\n",
       "2 10001 1942-7-2 0                  28.88888889 21.66666667 25.55555556\n",
       "3 10001 1942-7-3 2.54               26.11111111 22.22222222 24.44444444\n",
       "4 10001 1942-7-4 2.54               26.66666667 22.22222222 24.44444444\n",
       "5 10001 1942-7-5 0                  26.66666667 21.66666667 24.44444444\n",
       "  Snowfall PoorWeather YR ⋯ FB FTI ITH PGT TSHDSBRSGF SD3 RHX RHN RVG WTE\n",
       "1 0                    42 ⋯ NA NA  NA                 NA  NA  NA  NA  NA \n",
       "2 0                    42 ⋯ NA NA  NA                 NA  NA  NA  NA  NA \n",
       "3 0                    42 ⋯ NA NA  NA                 NA  NA  NA  NA  NA \n",
       "4 0                    42 ⋯ NA NA  NA                 NA  NA  NA  NA  NA \n",
       "5 0                    42 ⋯ NA NA  NA                 NA  NA  NA  NA  NA "
      ]
     },
     "metadata": {},
     "output_type": "display_data"
    }
   ],
   "source": [
    "head(weather_ww2, 5)"
   ]
  },
  {
   "cell_type": "code",
   "execution_count": 6,
   "id": "fb3e225d-ba26-46b0-9601-0b87383971da",
   "metadata": {},
   "outputs": [
    {
     "name": "stdout",
     "output_type": "stream",
     "text": [
      "'data.frame':\t119040 obs. of  31 variables:\n",
      " $ STA        : int  10001 10001 10001 10001 10001 10001 10001 10001 10001 10001 ...\n",
      " $ Date       : chr  \"1942-7-1\" \"1942-7-2\" \"1942-7-3\" \"1942-7-4\" ...\n",
      " $ Precip     : chr  \"1.016\" \"0\" \"2.54\" \"2.54\" ...\n",
      " $ WindGustSpd: chr  \"\" \"\" \"\" \"\" ...\n",
      " $ MaxTemp    : chr  \"25.55555556\" \"28.88888889\" \"26.11111111\" \"26.66666667\" ...\n",
      " $ MinTemp    : chr  \"22.22222222\" \"21.66666667\" \"22.22222222\" \"22.22222222\" ...\n",
      " $ MeanTemp   : chr  \"23.88888889\" \"25.55555556\" \"24.44444444\" \"24.44444444\" ...\n",
      " $ Snowfall   : chr  \"0\" \"0\" \"0\" \"0\" ...\n",
      " $ PoorWeather: chr  \"\" \"\" \"\" \"\" ...\n",
      " $ YR         : int  42 42 42 42 42 42 42 42 42 42 ...\n",
      " $ MO         : int  7 7 7 7 7 7 7 7 7 7 ...\n",
      " $ DA         : int  1 2 3 4 5 6 7 8 9 10 ...\n",
      " $ PRCP       : chr  \"0.04\" \"0\" \"0.1\" \"0.1\" ...\n",
      " $ DR         : int  NA NA NA NA NA NA NA NA NA NA ...\n",
      " $ SPD        : int  NA NA NA NA NA NA NA NA NA NA ...\n",
      " $ MAX        : int  78 84 79 80 80 80 83 80 81 78 ...\n",
      " $ MIN        : int  72 71 72 72 71 71 73 72 73 71 ...\n",
      " $ MEA        : int  75 78 76 76 76 76 78 76 77 74 ...\n",
      " $ SNF        : chr  \"0\" \"0\" \"0\" \"0\" ...\n",
      " $ SND        : int  NA NA NA NA NA NA NA NA NA NA ...\n",
      " $ FT         : logi  NA NA NA NA NA NA ...\n",
      " $ FB         : logi  NA NA NA NA NA NA ...\n",
      " $ FTI        : logi  NA NA NA NA NA NA ...\n",
      " $ ITH        : logi  NA NA NA NA NA NA ...\n",
      " $ PGT        : chr  \"\" \"\" \"\" \"\" ...\n",
      " $ TSHDSBRSGF : chr  \"\" \"\" \"\" \"\" ...\n",
      " $ SD3        : logi  NA NA NA NA NA NA ...\n",
      " $ RHX        : logi  NA NA NA NA NA NA ...\n",
      " $ RHN        : logi  NA NA NA NA NA NA ...\n",
      " $ RVG        : logi  NA NA NA NA NA NA ...\n",
      " $ WTE        : logi  NA NA NA NA NA NA ...\n",
      "NULL\n"
     ]
    }
   ],
   "source": [
    "weather_ww2_stat <- {colnames(weather_ww2); str(weather_ww2)}\n",
    "print(weather_ww2_stat)"
   ]
  },
  {
   "cell_type": "code",
   "execution_count": 8,
   "id": "a8cce918-2331-4795-8555-bac7a5939c7c",
   "metadata": {},
   "outputs": [
    {
     "data": {
      "text/plain": [
       "      STA            Date              Precip          WindGustSpd       \n",
       " Min.   :10001   Length:119040      Length:119040      Length:119040     \n",
       " 1st Qu.:11801   Class :character   Class :character   Class :character  \n",
       " Median :22508   Mode  :character   Mode  :character   Mode  :character  \n",
       " Mean   :29659                                                           \n",
       " 3rd Qu.:33501                                                           \n",
       " Max.   :82506                                                           \n",
       "                                                                         \n",
       "   MaxTemp            MinTemp            MeanTemp           Snowfall        \n",
       " Length:119040      Length:119040      Length:119040      Length:119040     \n",
       " Class :character   Class :character   Class :character   Class :character  \n",
       " Mode  :character   Mode  :character   Mode  :character   Mode  :character  \n",
       "                                                                            \n",
       "                                                                            \n",
       "                                                                            \n",
       "                                                                            \n",
       " PoorWeather              YR              MO               DA      \n",
       " Length:119040      Min.   :40.00   Min.   : 1.000   Min.   : 1.0  \n",
       " Class :character   1st Qu.:43.00   1st Qu.: 4.000   1st Qu.: 8.0  \n",
       " Mode  :character   Median :44.00   Median : 7.000   Median :16.0  \n",
       "                    Mean   :43.81   Mean   : 6.726   Mean   :15.8  \n",
       "                    3rd Qu.:45.00   3rd Qu.:10.000   3rd Qu.:23.0  \n",
       "                    Max.   :45.00   Max.   :12.000   Max.   :31.0  \n",
       "                                                                   \n",
       "     PRCP                 DR              SPD              MAX     \n",
       " Length:119040      Min.   : 2       Min.   :10.00    Min.   :-28  \n",
       " Class :character   1st Qu.:11       1st Qu.:16.00    1st Qu.: 78  \n",
       " Mode  :character   Median :32       Median :20.00    Median : 85  \n",
       "                    Mean   :27       Mean   :20.40    Mean   : 81  \n",
       "                    3rd Qu.:34       3rd Qu.:23.25    3rd Qu.: 89  \n",
       "                    Max.   :78       Max.   :41.00    Max.   :122  \n",
       "                    NA's   :118507   NA's   :118508   NA's   :474  \n",
       "      MIN              MEA             SNF                 SND        \n",
       " Min.   :-37.00   Min.   :-32.00   Length:119040      Min.   :0       \n",
       " 1st Qu.: 59.00   1st Qu.: 69.00   Class :character   1st Qu.:0       \n",
       " Median : 70.00   Median : 78.00   Mode  :character   Median :0       \n",
       " Mean   : 64.27   Mean   : 72.64                      Mean   :0       \n",
       " 3rd Qu.: 74.00   3rd Qu.: 81.00                      3rd Qu.:0       \n",
       " Max.   : 94.00   Max.   :104.00                      Max.   :0       \n",
       " NA's   :468      NA's   :498                         NA's   :113477  \n",
       "    FT             FB            FTI            ITH              PGT           \n",
       " Mode:logical   Mode:logical   Mode:logical   Mode:logical   Length:119040     \n",
       " NA's:119040    NA's:119040    NA's:119040    NA's:119040    Class :character  \n",
       "                                                             Mode  :character  \n",
       "                                                                               \n",
       "                                                                               \n",
       "                                                                               \n",
       "                                                                               \n",
       "  TSHDSBRSGF          SD3            RHX            RHN            RVG         \n",
       " Length:119040      Mode:logical   Mode:logical   Mode:logical   Mode:logical  \n",
       " Class :character   NA's:119040    NA's:119040    NA's:119040    NA's:119040   \n",
       " Mode  :character                                                              \n",
       "                                                                               \n",
       "                                                                               \n",
       "                                                                               \n",
       "                                                                               \n",
       "   WTE         \n",
       " Mode:logical  \n",
       " NA's:119040   \n",
       "               \n",
       "               \n",
       "               \n",
       "               \n",
       "               "
      ]
     },
     "metadata": {},
     "output_type": "display_data"
    }
   ],
   "source": [
    "summary(weather_ww2)"
   ]
  },
  {
   "cell_type": "markdown",
   "id": "61ba89fa-344c-470c-8c7c-73516af23c86",
   "metadata": {},
   "source": [
    "Se puede observar que las variables (o columnas) FT, FB FTI, ITH, SD3, RHX, RHN, RVG y WTE son todos NA. Para que no molesten durante el pre-analisis de los datasets.\n",
    "Por otro lado, es evidente que las primeras variables fueron generadas a partir de las siguientes y mal formateadas. Por ejemplo, se unificaron en una variable DATE (fecha), las variables YR (año), MO (mes) y DA (día). Luego, MAX, MIN y MEA en Fahrenheit fueron convertidas a MaxTemp, MinTemp y MeanTemp en °C pero también mal formateadas. Entonces, se descarta"
   ]
  },
  {
   "cell_type": "code",
   "execution_count": 4,
   "id": "d37c7a57-5812-4f83-88a9-9989273c6523",
   "metadata": {},
   "outputs": [
    {
     "data": {
      "text/html": [
       "<table class=\"dataframe\">\n",
       "<caption>A data.frame: 5 × 8</caption>\n",
       "<thead>\n",
       "\t<tr><th></th><th scope=col>WBAN</th><th scope=col>NAME</th><th scope=col>STATE.COUNTRY.ID</th><th scope=col>LAT</th><th scope=col>LON</th><th scope=col>ELEV</th><th scope=col>Latitude</th><th scope=col>Longitude</th></tr>\n",
       "\t<tr><th></th><th scope=col>&lt;int&gt;</th><th scope=col>&lt;chr&gt;</th><th scope=col>&lt;chr&gt;</th><th scope=col>&lt;chr&gt;</th><th scope=col>&lt;chr&gt;</th><th scope=col>&lt;int&gt;</th><th scope=col>&lt;chr&gt;</th><th scope=col>&lt;chr&gt;</th></tr>\n",
       "</thead>\n",
       "<tbody>\n",
       "\t<tr><th scope=row>1</th><td>33013</td><td>AIN EL        </td><td>AL</td><td>3623N</td><td>00637E</td><td>611</td><td>36.38333333</td><td>6.65        </td></tr>\n",
       "\t<tr><th scope=row>2</th><td>33031</td><td>LA SENIA      </td><td>AL</td><td>3537N</td><td>00037E</td><td> 88</td><td>35.61666667</td><td>0.583333333 </td></tr>\n",
       "\t<tr><th scope=row>3</th><td>33023</td><td>MAISON BLANCHE</td><td>AL</td><td>3643N</td><td>00314E</td><td> 23</td><td>36.71666667</td><td>3.216666667 </td></tr>\n",
       "\t<tr><th scope=row>4</th><td>33044</td><td>TELERGMA      </td><td>AL</td><td>3607N</td><td>00621E</td><td>754</td><td>36.11666667</td><td>6.416666667 </td></tr>\n",
       "\t<tr><th scope=row>5</th><td>12001</td><td>TINDOUF       </td><td>AL</td><td>2741N</td><td>00809W</td><td>443</td><td>27.68333333</td><td>-8.083333333</td></tr>\n",
       "</tbody>\n",
       "</table>\n"
      ],
      "text/latex": [
       "A data.frame: 5 × 8\n",
       "\\begin{tabular}{r|llllllll}\n",
       "  & WBAN & NAME & STATE.COUNTRY.ID & LAT & LON & ELEV & Latitude & Longitude\\\\\n",
       "  & <int> & <chr> & <chr> & <chr> & <chr> & <int> & <chr> & <chr>\\\\\n",
       "\\hline\n",
       "\t1 & 33013 & AIN EL         & AL & 3623N & 00637E & 611 & 36.38333333 & 6.65        \\\\\n",
       "\t2 & 33031 & LA SENIA       & AL & 3537N & 00037E &  88 & 35.61666667 & 0.583333333 \\\\\n",
       "\t3 & 33023 & MAISON BLANCHE & AL & 3643N & 00314E &  23 & 36.71666667 & 3.216666667 \\\\\n",
       "\t4 & 33044 & TELERGMA       & AL & 3607N & 00621E & 754 & 36.11666667 & 6.416666667 \\\\\n",
       "\t5 & 12001 & TINDOUF        & AL & 2741N & 00809W & 443 & 27.68333333 & -8.083333333\\\\\n",
       "\\end{tabular}\n"
      ],
      "text/markdown": [
       "\n",
       "A data.frame: 5 × 8\n",
       "\n",
       "| <!--/--> | WBAN &lt;int&gt; | NAME &lt;chr&gt; | STATE.COUNTRY.ID &lt;chr&gt; | LAT &lt;chr&gt; | LON &lt;chr&gt; | ELEV &lt;int&gt; | Latitude &lt;chr&gt; | Longitude &lt;chr&gt; |\n",
       "|---|---|---|---|---|---|---|---|---|\n",
       "| 1 | 33013 | AIN EL         | AL | 3623N | 00637E | 611 | 36.38333333 | 6.65         |\n",
       "| 2 | 33031 | LA SENIA       | AL | 3537N | 00037E |  88 | 35.61666667 | 0.583333333  |\n",
       "| 3 | 33023 | MAISON BLANCHE | AL | 3643N | 00314E |  23 | 36.71666667 | 3.216666667  |\n",
       "| 4 | 33044 | TELERGMA       | AL | 3607N | 00621E | 754 | 36.11666667 | 6.416666667  |\n",
       "| 5 | 12001 | TINDOUF        | AL | 2741N | 00809W | 443 | 27.68333333 | -8.083333333 |\n",
       "\n"
      ],
      "text/plain": [
       "  WBAN  NAME           STATE.COUNTRY.ID LAT   LON    ELEV Latitude   \n",
       "1 33013 AIN EL         AL               3623N 00637E 611  36.38333333\n",
       "2 33031 LA SENIA       AL               3537N 00037E  88  35.61666667\n",
       "3 33023 MAISON BLANCHE AL               3643N 00314E  23  36.71666667\n",
       "4 33044 TELERGMA       AL               3607N 00621E 754  36.11666667\n",
       "5 12001 TINDOUF        AL               2741N 00809W 443  27.68333333\n",
       "  Longitude   \n",
       "1 6.65        \n",
       "2 0.583333333 \n",
       "3 3.216666667 \n",
       "4 6.416666667 \n",
       "5 -8.083333333"
      ]
     },
     "metadata": {},
     "output_type": "display_data"
    }
   ],
   "source": [
    "head(stations_ww2, 5)\n"
   ]
  },
  {
   "cell_type": "code",
   "execution_count": 7,
   "id": "7d5f8540-09c2-4114-b149-6881a05c924f",
   "metadata": {},
   "outputs": [
    {
     "name": "stdout",
     "output_type": "stream",
     "text": [
      "[1] 119040\n"
     ]
    }
   ],
   "source": [
    "print(nrow(weather_ww2))"
   ]
  },
  {
   "cell_type": "code",
   "execution_count": null,
   "id": "9f54b5a1-53a2-422b-8742-886a0c061060",
   "metadata": {},
   "outputs": [],
   "source": []
  }
 ],
 "metadata": {
  "kernelspec": {
   "display_name": "R",
   "language": "R",
   "name": "ir"
  },
  "language_info": {
   "codemirror_mode": "r",
   "file_extension": ".r",
   "mimetype": "text/x-r-source",
   "name": "R",
   "pygments_lexer": "r",
   "version": "4.2.0"
  }
 },
 "nbformat": 4,
 "nbformat_minor": 5
}
